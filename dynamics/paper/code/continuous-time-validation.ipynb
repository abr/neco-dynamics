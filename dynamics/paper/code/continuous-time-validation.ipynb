{
 "cells": [
  {
   "cell_type": "code",
   "execution_count": 1,
   "metadata": {},
   "outputs": [],
   "source": [
    "%matplotlib inline"
   ]
  },
  {
   "cell_type": "code",
   "execution_count": 2,
   "metadata": {},
   "outputs": [],
   "source": [
    "import numpy as np\n",
    "from nengo_spa import Vocabulary\n",
    "from ssp.pointers import BaseVectors\n",
    "\n",
    "# sample data\n",
    "d = 32\n",
    "rng = np.random.RandomState(seed=0)\n",
    "vocab = Vocabulary(d, pointer_gen=BaseVectors(d, rng=rng))\n",
    "vocab.populate('A')\n",
    "A = vocab['A']\n",
    "\n",
    "# nengo-spa implementation of binding matrix\n",
    "T_valid = vocab.algebra.get_binding_matrix(A.v)\n",
    "\n",
    "# equivalent method (transforming A with a fixed permutation matrix)\n",
    "# note P is independent of A\n",
    "I = np.eye(d)\n",
    "P = np.vstack([np.roll(I, shift=i, axis=0) for i in range(d)])\n",
    "T = P.dot(A.v).reshape(d, d).T\n",
    "\n",
    "assert np.allclose(T, T_valid)"
   ]
  },
  {
   "cell_type": "code",
   "execution_count": 3,
   "metadata": {},
   "outputs": [],
   "source": [
    "from scipy.linalg import logm\n",
    "\n",
    "def get_T(P):\n",
    "    return vocab.algebra.get_binding_matrix(P.v)\n",
    "\n",
    "def get_lnT(P, exp=1):\n",
    "    # exp doesnt matter\n",
    "    # needs explanation\n",
    "    # reminder: ZOH and Intro to Stochastic Processes (Greogry F. Lawler)\n",
    "    P = (P ** exp)\n",
    "    T = get_T(P)\n",
    "    return logm(T) / exp"
   ]
  },
  {
   "cell_type": "code",
   "execution_count": 4,
   "metadata": {},
   "outputs": [],
   "source": [
    "vocab.populate('X')\n",
    "X = vocab['X']"
   ]
  },
  {
   "cell_type": "code",
   "execution_count": 5,
   "metadata": {},
   "outputs": [],
   "source": [
    "assert np.allclose(get_lnT(X, 0.1), get_lnT(X, 0.2))\n",
    "assert np.allclose(get_lnT(X, 0.01), get_lnT(X, 1))\n",
    "# ^ because ln(X^exp)/exp = ln(X)\n",
    "#   and because get_binding_matrix is linear\n",
    "assert np.allclose(\n",
    "    get_T(4.20 * X),\n",
    "    4.20 * get_T(X),\n",
    ")"
   ]
  },
  {
   "cell_type": "code",
   "execution_count": 6,
   "metadata": {},
   "outputs": [
    {
     "name": "stdout",
     "output_type": "stream",
     "text": [
      "500000\n"
     ]
    }
   ],
   "source": [
    "dx_by_dt = 0.1\n",
    "dt = 0.5\n",
    "dx = dx_by_dt * dt  # :+1: engineering\n",
    "\n",
    "# can also just pass in X if you play with substitution of variables\n",
    "lnT = get_lnT(X ** dx_by_dt)\n",
    "\n",
    "# Euler's method to simulate continuous system:\n",
    "# \\dot{B} = (lnT).dot(B)\n",
    "# => B[t+euler_dt] = euler_dt*(lnT).dot(B[t]) + B[t]\n",
    "#    where euler_dt is sufficiently small\n",
    "# starting from B[0] = A, simulating until B[dt]\n",
    "\n",
    "euler_dt = 1e-6\n",
    "steps = int(dt / euler_dt)\n",
    "print(steps)\n",
    "B = A.v\n",
    "for step in range(steps):\n",
    "    B = euler_dt*(lnT.dot(B)) + B"
   ]
  },
  {
   "cell_type": "code",
   "execution_count": 7,
   "metadata": {},
   "outputs": [],
   "source": [
    "assert np.allclose(B, (A * X**dx).v, atol=1e-7)"
   ]
  },
  {
   "cell_type": "code",
   "execution_count": 8,
   "metadata": {},
   "outputs": [],
   "source": [
    "vocab.populate('Y')\n",
    "Y = vocab['Y']"
   ]
  },
  {
   "cell_type": "code",
   "execution_count": 9,
   "metadata": {},
   "outputs": [
    {
     "name": "stdout",
     "output_type": "stream",
     "text": [
      "900000\n"
     ]
    }
   ],
   "source": [
    "dx_by_dt = 0.4\n",
    "dy_by_dt = 0.2\n",
    "\n",
    "dt = 0.9\n",
    "dx = dx_by_dt * dt  # :+1: engineering\n",
    "dy = dy_by_dt * dt  # :+1: engineering\n",
    "\n",
    "# can also just pass in X if you play with substitution of variables\n",
    "lnT = get_lnT(X ** dx_by_dt * Y ** dy_by_dt)\n",
    "\n",
    "# Euler's method to simulate continuous system:\n",
    "# \\dot{B} = (lnT).dot(B)\n",
    "# => B[t+euler_dt] = euler_dt*(lnT).dot(B[t]) + B[t]\n",
    "#    where euler_dt is sufficiently small\n",
    "# starting from B[0] = A, simulating until B[dt]\n",
    "\n",
    "euler_dt = 1e-6\n",
    "steps = int(dt / euler_dt)\n",
    "print(steps)\n",
    "B = A.v\n",
    "for step in range(steps):\n",
    "    B = euler_dt*(lnT.dot(B)) + B"
   ]
  },
  {
   "cell_type": "code",
   "execution_count": 10,
   "metadata": {},
   "outputs": [],
   "source": [
    "assert np.allclose(B, (A * X**dx * Y**dy).v, atol=1e-7)"
   ]
  },
  {
   "cell_type": "code",
   "execution_count": 11,
   "metadata": {},
   "outputs": [],
   "source": [
    "# again get_binding_matrix is linear\n",
    "assert np.allclose(\n",
    "    get_T(X + Y),\n",
    "    get_T(X) + get_T(Y),\n",
    ")\n",
    "# and ln(X^x Y^y) = xln(X) + yln(Y)\n",
    "# so we get the first big result:\n",
    "assert np.allclose(\n",
    "    lnT,\n",
    "    dx_by_dt * get_lnT(X) +  dy_by_dt * get_lnT(Y)\n",
    ")"
   ]
  },
  {
   "cell_type": "code",
   "execution_count": 12,
   "metadata": {},
   "outputs": [],
   "source": [
    "from scipy.linalg import eig, inv\n",
    "s, v = eig(get_T(X))\n",
    "assert np.allclose(\n",
    "    get_lnT(X),\n",
    "    v.dot(np.eye(d)*np.log(s)).dot(inv(v)).real,\n",
    ")"
   ]
  },
  {
   "cell_type": "code",
   "execution_count": 13,
   "metadata": {},
   "outputs": [],
   "source": [
    "assert np.allclose(np.abs(s), 1)\n",
    "assert np.allclose(np.log(s).real, 0)\n",
    "assert np.allclose(\n",
    "    np.sort(np.log(s).imag),\n",
    "    np.sort(np.log(np.fft.fft(X.v)).imag)\n",
    ")"
   ]
  },
  {
   "cell_type": "code",
   "execution_count": 14,
   "metadata": {},
   "outputs": [],
   "source": [
    "def unitary_lnT(T):\n",
    "    # you can move the ln inside of T()\n",
    "    return vocab.algebra.get_binding_matrix(\n",
    "        np.fft.ifft(np.log(np.fft.fft(T.v))).real\n",
    "    )\n",
    "\n",
    "assert np.allclose(\n",
    "    unitary_lnT(X),\n",
    "    get_lnT(X),\n",
    ")\n",
    "\n",
    "assert np.allclose(\n",
    "    lnT,\n",
    "    dx_by_dt * unitary_lnT(X) + dy_by_dt * unitary_lnT(Y)\n",
    ")"
   ]
  },
  {
   "cell_type": "code",
   "execution_count": 15,
   "metadata": {},
   "outputs": [
    {
     "name": "stdout",
     "output_type": "stream",
     "text": [
      "900000\n"
     ]
    }
   ],
   "source": [
    "# and so we get the final (?) result\n",
    "# expressing it as a binding again\n",
    "\n",
    "import nengo_spa as spa\n",
    "lnX = spa.SemanticPointer(np.fft.ifft(np.log(np.fft.fft(X.v))).real)\n",
    "lnY = spa.SemanticPointer(np.fft.ifft(np.log(np.fft.fft(Y.v))).real)\n",
    "dXY = dx_by_dt * lnX + dy_by_dt * lnY\n",
    "\n",
    "assert np.allclose(\n",
    "    get_T(dXY),\n",
    "    lnT,\n",
    ")\n",
    "\n",
    "euler_dt = 1e-6\n",
    "steps = int(dt / euler_dt)\n",
    "print(steps)\n",
    "B = A\n",
    "for step in range(steps):\n",
    "    B = euler_dt*( dXY * B ) + B\n",
    "    B.name = \"\"\n",
    "B = B.v"
   ]
  },
  {
   "cell_type": "code",
   "execution_count": 16,
   "metadata": {},
   "outputs": [],
   "source": [
    "assert np.allclose(B, (A * X**dx * Y**dy).v, atol=1e-7)"
   ]
  },
  {
   "cell_type": "code",
   "execution_count": null,
   "metadata": {},
   "outputs": [],
   "source": []
  }
 ],
 "metadata": {
  "kernelspec": {
   "display_name": "LPS Part3",
   "language": "python",
   "name": "lps-part3"
  },
  "language_info": {
   "codemirror_mode": {
    "name": "ipython",
    "version": 3
   },
   "file_extension": ".py",
   "mimetype": "text/x-python",
   "name": "python",
   "nbconvert_exporter": "python",
   "pygments_lexer": "ipython3",
   "version": "3.7.6"
  }
 },
 "nbformat": 4,
 "nbformat_minor": 2
}

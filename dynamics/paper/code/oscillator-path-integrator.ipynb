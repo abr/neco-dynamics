{
 "cells": [
  {
   "cell_type": "code",
   "execution_count": 1,
   "metadata": {},
   "outputs": [],
   "source": [
    "%matplotlib inline"
   ]
  },
  {
   "cell_type": "code",
   "execution_count": 2,
   "metadata": {},
   "outputs": [],
   "source": [
    "import matplotlib.pyplot as plt\n",
    "import numpy as np\n",
    "import seaborn as sns\n",
    "\n",
    "import nengo\n",
    "import nengo_spa as spa\n",
    "\n",
    "from ssp.maps import Spatial2D\n",
    "from ssp.pointers import BaseVectors"
   ]
  },
  {
   "cell_type": "code",
   "execution_count": 3,
   "metadata": {},
   "outputs": [],
   "source": [
    "# Adaoted from ssp_grid_cell_utils.py and ssp_grid_cell_examples.ipynb\n",
    "# Accurate representation for spatial cognition using grid cells\n",
    "# Nicole Sandra-Yaffa Dumont & Chris Eliasmith\n",
    "\n",
    "def ssp_plane_basis(K):\n",
    "    # Create the bases vectors X,Y as described in the paper with the wavevectors \n",
    "    # (k_i = (u_i,v_i)) given in a matrix K. To get hexganal patterns use 3 K vectors 120 degs apart\n",
    "    # To get mulit-scales/orientation, give many such sets of 3 K vectors \n",
    "    # K is _ by 2 \n",
    "    d = K.shape[0]\n",
    "    FX = np.ones((d*2 + 1,), dtype=\"complex\")\n",
    "    FX[0:d] = np.exp(1.j*K[:,0])\n",
    "    FX[-d:] = np.flip(np.conj(FX[0:d]))\n",
    "    FX = np.fft.ifftshift(FX)\n",
    "    FY = np.ones((d*2 + 1,), dtype=\"complex\")\n",
    "    FY[0:d] = np.exp(1.j*K[:,1])\n",
    "    FY[-d:] = np.flip(np.conj(FY[0:d]))\n",
    "    FY = np.fft.ifftshift(FY)\n",
    "    \n",
    "    X = spa.SemanticPointer(data=np.fft.ifft(FX))\n",
    "    Y = spa.SemanticPointer(data=np.fft.ifft(FY))\n",
    "    return X, Y\n",
    "\n",
    "\n",
    "def generate_grid_cell_basis(n_scales, n_rotates, scale_min=0.5, scale_max=1.8):\n",
    "    \"\"\"Generates basis vectors with ``d = n_scales * n_rotates * 6 + 1``.\"\"\"\n",
    "    K_hex = np.array(\n",
    "        [[0, 1],\n",
    "         [np.sqrt(3) / 2, -0.5],\n",
    "         [-np.sqrt(3) / 2, -0.5]]\n",
    "    )\n",
    "\n",
    "    # Combining multiple n_scales sets of 3 wave vectors that give hexagonal grid interference patterns\n",
    "    # each set of 3 giving a different grid resolution\n",
    "    scales = np.linspace(scale_min, scale_max, n_scales)\n",
    "    K_scales = np.vstack([K_hex * i for i in scales])\n",
    "\n",
    "    # Combining multiple n_rotates sets of 3 wave vectors that give hexagonal grid interference patterns\n",
    "    # each set of 3 giving a different grid orientation\n",
    "    thetas = np.arange(0, n_rotates) * np.pi / (3 * n_rotates)\n",
    "    R_mats = np.stack([np.stack([np.cos(thetas), -np.sin(thetas)], axis=1),\n",
    "                       np.stack([np.sin(thetas), np.cos(thetas)], axis=1)],\n",
    "                      axis=1)\n",
    "    # TODO: don't double transpose\n",
    "    K_rotates = (R_mats @ K_hex.T).transpose(1, 2, 0).T.reshape(-1, 2)\n",
    "\n",
    "    # Multiple resolutions and orientations\n",
    "    # TODO: don't double transpose\n",
    "    K_scale_rotates = (R_mats @ K_scales.T).transpose(1, 2, 0).T.reshape(-1, 2)\n",
    "\n",
    "    # Generate the (X, Y) basis vectors\n",
    "    X, Y = ssp_plane_basis(K_scale_rotates)\n",
    "    d = n_scales * n_rotates * 6 + 1\n",
    "    assert len(X) == len(Y) == d\n",
    "    return X, Y, d"
   ]
  },
  {
   "cell_type": "code",
   "execution_count": 4,
   "metadata": {},
   "outputs": [
    {
     "name": "stdout",
     "output_type": "stream",
     "text": [
      "Dimensionality: 151\n"
     ]
    },
    {
     "name": "stderr",
     "output_type": "stream",
     "text": [
      "/home/arvoelke/git/spa/nengo_spa/semantic_pointer.py:57: ComplexWarning: Casting complex values to real discards the imaginary part\n",
      "  self.v = np.array(data, dtype=float)\n"
     ]
    }
   ],
   "source": [
    "X, Y, d = generate_grid_cell_basis(n_scales=5, n_rotates=5,\n",
    "                                   scale_min=0.9, scale_max=1.5)\n",
    "print(\"Dimensionality:\", d)"
   ]
  },
  {
   "cell_type": "code",
   "execution_count": 5,
   "metadata": {},
   "outputs": [],
   "source": [
    "rng = np.random.RandomState(seed=0)\n",
    "vocab = spa.Vocabulary(d, pointer_gen=BaseVectors(d, rng=rng))\n",
    "vocab.populate('X;Y')\n",
    "X = vocab['X']\n",
    "Y = vocab['Y']\n",
    "\n",
    "def lnsp(x):\n",
    "    return np.fft.ifft(np.log(np.fft.fft(x))).real\n",
    "\n",
    "lnX = spa.SemanticPointer(np.fft.ifft(np.log(np.fft.fft(X.v))).real)\n",
    "lnY = spa.SemanticPointer(np.fft.ifft(np.log(np.fft.fft(Y.v))).real)"
   ]
  },
  {
   "cell_type": "code",
   "execution_count": 6,
   "metadata": {},
   "outputs": [],
   "source": [
    "radius = 5  # in SSP space\n",
    "freq = 0.2\n",
    "v_scale = 2 * np.pi * freq * radius\n",
    "x_func = lambda t: -np.sin(2 * np.pi * freq * t)\n",
    "y_func = lambda t: np.cos(2 * np.pi * freq * t)\n",
    "tau = 0.1\n",
    "\n",
    "# Network definition adapted from Terry Stewart's example (used with permission)\n",
    "with nengo.Network(seed=0) as model:\n",
    "    model.config[nengo.Ensemble].neuron_type = nengo.SpikingRectifiedLinear()  # nengo.Direct()\n",
    "\n",
    "    path = spa.networks.CircularConvolution(n_neurons=100, dimensions=d)\n",
    "    \n",
    "    # do the \"+x\" part of principle 3\n",
    "    # it is also possible to do this directly within the product network,\n",
    "    # but we want to be able to initialize and probe path.input_a.\n",
    "    transform = spa.networks.circularconvolution.transform_out(d)\n",
    "    inner_a = nengo.Node(None, size_in=transform.shape[1])\n",
    "    nengo.Connection(path.product.sq1.output, inner_a, synapse=None)\n",
    "    nengo.Connection(path.product.sq2.output, inner_a, synapse=None)\n",
    "    # compute the transform required to undo the DFT[a] by determining what\n",
    "    # happens when input_b is a delta\n",
    "    transform_b = spa.networks.circularconvolution.transform_in(d, \"B\", False)\n",
    "    identity = np.zeros(d)\n",
    "    identity[0] = 1.\n",
    "    identity_mask = transform_b.dot(identity)\n",
    "    transform_a_inv = transform * identity_mask[None, :]\n",
    "    nengo.Connection(inner_a, path.input_a, transform=transform_a_inv / np.sqrt(2), synapse=tau)\n",
    "\n",
    "    # do the \"tau*dSSP\" part of principle 3\n",
    "    conn = nengo.Connection(path.output, path.input_a, transform=v_scale * tau, synapse=tau)\n",
    "\n",
    "    # do the input\n",
    "    stim_x = nengo.Node(x_func)    \n",
    "    nengo.Connection(stim_x, path.input_b, transform=lnX.v[:, None], synapse=None)\n",
    "    stim_y = nengo.Node(y_func)    \n",
    "    nengo.Connection(stim_y, path.input_b, transform=lnY.v[:, None], synapse=None)\n",
    "    \n",
    "    p = nengo.Probe(path.input_a, synapse=None)"
   ]
  },
  {
   "cell_type": "code",
   "execution_count": 7,
   "metadata": {},
   "outputs": [
    {
     "name": "stdout",
     "output_type": "stream",
     "text": [
      "Neurons: 30400\n"
     ]
    }
   ],
   "source": [
    "print(\"Neurons:\", sum(ens.n_neurons for ens in model.all_ensembles))"
   ]
  },
  {
   "cell_type": "code",
   "execution_count": 8,
   "metadata": {},
   "outputs": [
    {
     "data": {
      "application/vdom.v1+json": {
       "attributes": {},
       "tagName": "div"
      },
      "text/html": [
       "\n",
       "                <script>\n",
       "                    if (Jupyter.version.split(\".\")[0] < 5) {\n",
       "                        var pb = document.getElementById(\"c02fd526-5d72-42e4-b5e5-a1e404760eb2\");\n",
       "                        var text = document.createTextNode(\n",
       "                            \"HMTL progress bar requires Jupyter Notebook >= \" +\n",
       "                            \"5.0 or Jupyter Lab. Alternatively, you can use \" +\n",
       "                            \"TerminalProgressBar().\");\n",
       "                        pb.parentNode.insertBefore(text, pb);\n",
       "                    }\n",
       "                </script>\n",
       "                <div id=\"c02fd526-5d72-42e4-b5e5-a1e404760eb2\" style=\"\n",
       "                    width: 100%;\n",
       "                    border: 1px solid #cfcfcf;\n",
       "                    border-radius: 4px;\n",
       "                    text-align: center;\n",
       "                    position: relative;\">\n",
       "                  <div class=\"pb-text\" style=\"\n",
       "                      position: absolute;\n",
       "                      width: 100%;\">\n",
       "                    0%\n",
       "                  </div>\n",
       "                  <div class=\"pb-fill\" style=\"\n",
       "                      background-color: #bdd2e6;\n",
       "                      width: 0%;\">\n",
       "                    <style type=\"text/css\" scoped=\"scoped\">\n",
       "                        @keyframes pb-fill-anim {\n",
       "                            0% { background-position: 0 0; }\n",
       "                            100% { background-position: 100px 0; }\n",
       "                        }\n",
       "                    </style>\n",
       "                    &nbsp;\n",
       "                  </div>\n",
       "                </div>"
      ],
      "text/plain": [
       "HtmlProgressBar cannot be displayed. Please use the TerminalProgressBar. It can be enabled with `nengo.rc.set('progress', 'progress_bar', 'nengo.utils.progress.TerminalProgressBar')`."
      ]
     },
     "metadata": {},
     "output_type": "display_data"
    },
    {
     "data": {
      "application/vdom.v1+json": {
       "attributes": {
        "id": "88ecc3ed-892b-4343-8af2-4db0f8780063",
        "style": {
         "border": "1px solid #cfcfcf",
         "borderRadius": "4px",
         "boxSizing": "border-box",
         "position": "relative",
         "textAlign": "center",
         "width": "100%"
        }
       },
       "children": [
        {
         "attributes": {
          "class": "pb-text",
          "style": {
           "position": "absolute",
           "width": "100%"
          }
         },
         "children": [
          "Build finished in 0:00:06."
         ],
         "tagName": "div"
        },
        {
         "attributes": {
          "class": "pb-fill",
          "style": {
           "animation": "none",
           "backgroundColor": "#bdd2e6",
           "backgroundImage": "none",
           "backgroundSize": "100px 100%",
           "width": "100%"
          }
         },
         "children": [
          {
           "attributes": {
            "scoped": "scoped",
            "type": "text/css"
           },
           "children": [
            "\n                        @keyframes pb-fill-anim {\n                            0% { background-position: 0 0; }\n                            100% { background-position: 100px 0; }\n                        }}"
           ],
           "tagName": "style"
          },
          " "
         ],
         "tagName": "div"
        }
       ],
       "tagName": "div"
      },
      "text/html": [
       "<script>\n",
       "              (function () {\n",
       "                  var root = document.getElementById('c02fd526-5d72-42e4-b5e5-a1e404760eb2');\n",
       "                  var text = root.getElementsByClassName('pb-text')[0];\n",
       "                  var fill = root.getElementsByClassName('pb-fill')[0];\n",
       "\n",
       "                  text.innerHTML = 'Build finished in 0:00:06.';\n",
       "                  \n",
       "            fill.style.width = '100%';\n",
       "            fill.style.animation = 'pb-fill-anim 2s linear infinite';\n",
       "            fill.style.backgroundSize = '100px 100%';\n",
       "            fill.style.backgroundImage = 'repeating-linear-gradient(' +\n",
       "                '90deg, #bdd2e6, #edf2f8 40%, #bdd2e6 80%, #bdd2e6)';\n",
       "        \n",
       "                  \n",
       "                fill.style.animation = 'none';\n",
       "                fill.style.backgroundImage = 'none';\n",
       "            \n",
       "              })();\n",
       "        </script>"
      ]
     },
     "metadata": {},
     "output_type": "display_data"
    },
    {
     "data": {
      "application/vdom.v1+json": {
       "attributes": {},
       "tagName": "div"
      },
      "text/html": [
       "\n",
       "                <script>\n",
       "                    if (Jupyter.version.split(\".\")[0] < 5) {\n",
       "                        var pb = document.getElementById(\"2dd9ca9d-55d0-4965-b43e-bbc24f64d57f\");\n",
       "                        var text = document.createTextNode(\n",
       "                            \"HMTL progress bar requires Jupyter Notebook >= \" +\n",
       "                            \"5.0 or Jupyter Lab. Alternatively, you can use \" +\n",
       "                            \"TerminalProgressBar().\");\n",
       "                        pb.parentNode.insertBefore(text, pb);\n",
       "                    }\n",
       "                </script>\n",
       "                <div id=\"2dd9ca9d-55d0-4965-b43e-bbc24f64d57f\" style=\"\n",
       "                    width: 100%;\n",
       "                    border: 1px solid #cfcfcf;\n",
       "                    border-radius: 4px;\n",
       "                    text-align: center;\n",
       "                    position: relative;\">\n",
       "                  <div class=\"pb-text\" style=\"\n",
       "                      position: absolute;\n",
       "                      width: 100%;\">\n",
       "                    0%\n",
       "                  </div>\n",
       "                  <div class=\"pb-fill\" style=\"\n",
       "                      background-color: #bdd2e6;\n",
       "                      width: 0%;\">\n",
       "                    <style type=\"text/css\" scoped=\"scoped\">\n",
       "                        @keyframes pb-fill-anim {\n",
       "                            0% { background-position: 0 0; }\n",
       "                            100% { background-position: 100px 0; }\n",
       "                        }\n",
       "                    </style>\n",
       "                    &nbsp;\n",
       "                  </div>\n",
       "                </div>"
      ],
      "text/plain": [
       "HtmlProgressBar cannot be displayed. Please use the TerminalProgressBar. It can be enabled with `nengo.rc.set('progress', 'progress_bar', 'nengo.utils.progress.TerminalProgressBar')`."
      ]
     },
     "metadata": {},
     "output_type": "display_data"
    },
    {
     "data": {
      "application/vdom.v1+json": {
       "attributes": {
        "id": "5385d06c-8db7-40d7-a292-c27aeeb7cc23",
        "style": {
         "border": "1px solid #cfcfcf",
         "borderRadius": "4px",
         "boxSizing": "border-box",
         "position": "relative",
         "textAlign": "center",
         "width": "100%"
        }
       },
       "children": [
        {
         "attributes": {
          "class": "pb-text",
          "style": {
           "position": "absolute",
           "width": "100%"
          }
         },
         "children": [
          "Simulation finished in 0:00:05."
         ],
         "tagName": "div"
        },
        {
         "attributes": {
          "class": "pb-fill",
          "style": {
           "animation": "none",
           "backgroundColor": "#bdd2e6",
           "backgroundImage": "none",
           "transition": "width 0.1s linear",
           "width": "100%"
          }
         },
         "children": [
          {
           "attributes": {
            "scoped": "scoped",
            "type": "text/css"
           },
           "children": [
            "\n                        @keyframes pb-fill-anim {\n                            0% { background-position: 0 0; }\n                            100% { background-position: 100px 0; }\n                        }}"
           ],
           "tagName": "style"
          },
          " "
         ],
         "tagName": "div"
        }
       ],
       "tagName": "div"
      },
      "text/html": [
       "<script>\n",
       "              (function () {\n",
       "                  var root = document.getElementById('2dd9ca9d-55d0-4965-b43e-bbc24f64d57f');\n",
       "                  var text = root.getElementsByClassName('pb-text')[0];\n",
       "                  var fill = root.getElementsByClassName('pb-fill')[0];\n",
       "\n",
       "                  text.innerHTML = 'Simulation finished in 0:00:05.';\n",
       "                  \n",
       "            if (100.0 > 0.) {\n",
       "                fill.style.transition = 'width 0.1s linear';\n",
       "            } else {\n",
       "                fill.style.transition = 'none';\n",
       "            }\n",
       "\n",
       "            fill.style.width = '100.0%';\n",
       "            fill.style.animation = 'none';\n",
       "            fill.style.backgroundImage = 'none'\n",
       "        \n",
       "                  \n",
       "                fill.style.animation = 'none';\n",
       "                fill.style.backgroundImage = 'none';\n",
       "            \n",
       "              })();\n",
       "        </script>"
      ]
     },
     "metadata": {},
     "output_type": "display_data"
    }
   ],
   "source": [
    "with nengo.Simulator(model) as sim:\n",
    "    # Note: for this trick to work, conn.synapse needs to be referencing\n",
    "    # the last connection with this particular tau to be added to the model\n",
    "    # since it hashes by its contents and not by its identity.\n",
    "    signal = sim.model.sig[conn.synapse]\n",
    "    sim.signals[signal['_state_X']] = (X ** radius).v[None, :]\n",
    "\n",
    "    sim.run(1 / freq)"
   ]
  },
  {
   "cell_type": "code",
   "execution_count": 9,
   "metadata": {},
   "outputs": [
    {
     "name": "stderr",
     "output_type": "stream",
     "text": [
      "/home/arvoelke/git/spa/nengo_spa/vocabulary.py:182: UserWarning: Could not create a semantic pointer with max_similarity=0.10 (D=151, M=23, similarity=0.10)\n",
      "  % (self.max_similarity, self.dimensions, len(self._key2idx), best_sim)\n"
     ]
    }
   ],
   "source": [
    "ssp_map = Spatial2D(dim=d, scale=14, rng=rng, X=X, Y=Y)\n",
    "ssp_map.build_grid(x_len=0.5, y_len=0.5, x_spaces=101, y_spaces=101, centered=True)"
   ]
  },
  {
   "cell_type": "code",
   "execution_count": 10,
   "metadata": {},
   "outputs": [
    {
     "data": {
      "image/png": "[encoded data removed]",
      "text/plain": [
       "<Figure size 1152x180 with 1 Axes>"
      ]
     },
     "metadata": {
      "needs_background": "light"
     },
     "output_type": "display_data"
    }
   ],
   "source": [
    "# Adapted from Pete B's example\n",
    "import scipy.interpolate as si\n",
    "from mpl_toolkits.mplot3d import axes3d, Axes3D\n",
    "from matplotlib import cm\n",
    "\n",
    "n_slices = 11\n",
    "x = ssp_map.xs\n",
    "y = ssp_map.ys\n",
    "X, Y = np.meshgrid(x, y)\n",
    "cmap = 'bwr'\n",
    "scam = plt.cm.ScalarMappable(norm=cm.colors.Normalize(-1, 1), cmap=cmap)\n",
    "\n",
    "fig = plt.figure(figsize=(16, 2.5))\n",
    "ax = fig.gca(projection='3d')\n",
    "\n",
    "for t in np.linspace(1, len(sim.trange()) - 1, n_slices, dtype=int):\n",
    "    c = ssp_map.compute_heatmap(spa.SemanticPointer(sim.data[p][t]))\n",
    "    Z = np.ones_like(Y) * t * sim.dt\n",
    "    ax.plot_surface(\n",
    "        Z, X, Y, facecolors=scam.to_rgba(c), cmap=cmap, vmin=-1, vmax=1,\n",
    "        antialiased=True, rstride=1, cstride=1, alpha=None,\n",
    "    )\n",
    "\n",
    "t = sim.trange()\n",
    "scale = radius / ssp_map.scale\n",
    "ax.plot(t, y_func(t) * scale, x_func(t) * scale, linestyle='--',\n",
    "        color='black', alpha=0.4, zorder=np.inf)\n",
    "    \n",
    "ax.set_xlabel(\"Time (s)\", labelpad=25)\n",
    "ax.set_yticks([])\n",
    "ax.set_zticks([])\n",
    "\n",
    "fudge = 0.5\n",
    "ax.set_xlim(-fudge, sim.trange()[-1] + fudge)\n",
    "\n",
    "# https://stackoverflow.com/a/30419243\n",
    "ax.get_proj = lambda: np.dot(Axes3D.get_proj(ax), np.diag([1, 0.5, 0.5, 1]))\n",
    "\n",
    "ax.view_init(15, -82)\n",
    "plt.savefig('../figures/oscillator-path-integrator.pdf', bbox_inches='tight')\n",
    "\n",
    "fig.show()"
   ]
  },
  {
   "cell_type": "code",
   "execution_count": null,
   "metadata": {},
   "outputs": [],
   "source": []
  }
 ],
 "metadata": {
  "kernelspec": {
   "display_name": "LPS Part3",
   "language": "python",
   "name": "lps-part3"
  },
  "language_info": {
   "codemirror_mode": {
    "name": "ipython",
    "version": 3
   },
   "file_extension": ".py",
   "mimetype": "text/x-python",
   "name": "python",
   "nbconvert_exporter": "python",
   "pygments_lexer": "ipython3",
   "version": "3.7.6"
  }
 },
 "nbformat": 4,
 "nbformat_minor": 4
}

{
 "cells": [
  {
   "cell_type": "markdown",
   "metadata": {},
   "source": [
    "### Detecting Collisions by Classifying the SSP\n",
    "\n",
    "This notebook demonstrates how to train an SVM (with RBF kernel) to detect whether two objects occupy the same physical location within a single SSP (i.e., a binary classifier where \"P\" means \"collision\" and \"N\" means \"no collision\").\n",
    "\n",
    "Performance is demonstrated in four ways:\n",
    " - Confusion matrix on training data.\n",
    " - Confusion matrix on validation data.\n",
    " - Detecting a collision when two objects travel into another along a linear path.\n",
    " - Detecting a number of collisions when two objects travel independently along two lemniscate curves.\n",
    " \n",
    "For the final two demonstrations, the animation switches polarity to visually indicate a collision."
   ]
  },
  {
   "cell_type": "code",
   "execution_count": null,
   "metadata": {},
   "outputs": [],
   "source": [
    "%matplotlib inline"
   ]
  },
  {
   "cell_type": "code",
   "execution_count": null,
   "metadata": {},
   "outputs": [],
   "source": [
    "import numpy as np\n",
    "\n",
    "import matplotlib.pyplot as plt\n",
    "import seaborn as sns\n",
    "\n",
    "from IPython.display import HTML\n",
    "\n",
    "from ssp.maps import Spatial2D\n",
    "from ssp.plots import heatmap_animation, create_gif"
   ]
  },
  {
   "cell_type": "code",
   "execution_count": null,
   "metadata": {},
   "outputs": [],
   "source": [
    "dim = 768\n",
    "names = [\"A\", \"B\"]\n",
    "map_radius = 5  # half-length of square centered about (0, 0)"
   ]
  },
  {
   "cell_type": "code",
   "execution_count": null,
   "metadata": {},
   "outputs": [],
   "source": [
    "ssp_map = Spatial2D(dim=dim, scale=1, rng=np.random.RandomState(seed=0))\n",
    "ssp_map.build_grid(x_len=map_radius, y_len=map_radius,\n",
    "                   x_spaces=101, y_spaces=101, centered=True)"
   ]
  },
  {
   "cell_type": "code",
   "execution_count": null,
   "metadata": {},
   "outputs": [],
   "source": [
    "def generate_collision_data(vocab, objs, low, high, n_samples=2048):\n",
    "    rng = vocab.pointer_gen.rng\n",
    "    pos = rng.uniform(low=low, high=high, size=(n_samples, len(objs), 2))\n",
    "    x = np.zeros((n_samples, vocab.dimensions), dtype=np.float64)\n",
    "    dist = np.zeros((n_samples,), dtype=np.float64)\n",
    "    for i in range(n_samples):\n",
    "        x[i, :] = np.sum(\n",
    "            [\n",
    "                vocab[objs[j]]\n",
    "                * vocab[\"X\"] ** pos[i, j, 0]\n",
    "                * vocab[\"Y\"] ** pos[i, j, 1]\n",
    "                for j in range(len(objs))\n",
    "            ],\n",
    "        ).v\n",
    "        assert len(objs) == 2\n",
    "        dist[i] = np.linalg.norm(pos[i, 0, :] - pos[i, 1, :])\n",
    "    return x, dist"
   ]
  },
  {
   "cell_type": "code",
   "execution_count": null,
   "metadata": {},
   "outputs": [],
   "source": [
    "def metrics(actual_collision, estimate_collision):\n",
    "    # https://en.wikipedia.org/wiki/Confusion_matrix\n",
    "    tp = np.count_nonzero(actual_collision & estimate_collision)\n",
    "    fn = np.count_nonzero(actual_collision & ~estimate_collision)\n",
    "    fp = np.count_nonzero(~actual_collision & estimate_collision)\n",
    "    tn = np.count_nonzero(~actual_collision & ~estimate_collision)\n",
    "    assert (tp + fn + fp + tn\n",
    "            == len(actual_collision)\n",
    "            == len(estimate_collision))\n",
    "\n",
    "    print(\"          Actual    \")\n",
    "    print(\"           P N      \")\n",
    "    print(\"E    +------+------+\")\n",
    "    print(\"s  P | %4d | %4d |\" % (tp, fp))\n",
    "    print(\"t  N | %4d | %4d |\" % (fn, tn))\n",
    "    print(\".    +------+------+\")\n",
    "\n",
    "    ppv = 100 * tp / (tp + fp)\n",
    "    tpr = 100 * tp / (tp + fn)\n",
    "    print(\"Precision : %1.d%%\" % ppv)\n",
    "    print(\"   Recall : %.1d%%\" % tpr)\n",
    "    print(\" F1 score : %.1d%%\" % (2 * ppv * tpr / (ppv + tpr)))"
   ]
  },
  {
   "cell_type": "code",
   "execution_count": null,
   "metadata": {},
   "outputs": [],
   "source": [
    "train_x, train_dist = generate_collision_data(\n",
    "    ssp_map.voc, names, -map_radius, map_radius, n_samples=10240)"
   ]
  },
  {
   "cell_type": "code",
   "execution_count": null,
   "metadata": {},
   "outputs": [],
   "source": [
    "threshold = 2"
   ]
  },
  {
   "cell_type": "code",
   "execution_count": null,
   "metadata": {},
   "outputs": [],
   "source": [
    "from sklearn import svm\n",
    "\n",
    "clf = svm.SVC(C=5, kernel='rbf')\n",
    "clf.fit(train_x, train_dist < threshold)"
   ]
  },
  {
   "cell_type": "code",
   "execution_count": null,
   "metadata": {},
   "outputs": [],
   "source": [
    "metrics(actual_collision=(train_dist < threshold),\n",
    "        estimate_collision=clf.predict(train_x))"
   ]
  },
  {
   "cell_type": "code",
   "execution_count": null,
   "metadata": {},
   "outputs": [],
   "source": [
    "valid_x, valid_dist = generate_collision_data(\n",
    "    ssp_map.voc, names, -map_radius, map_radius, n_samples=1024)"
   ]
  },
  {
   "cell_type": "code",
   "execution_count": null,
   "metadata": {},
   "outputs": [],
   "source": [
    "metrics(actual_collision=(valid_dist < threshold),\n",
    "        estimate_collision=clf.predict(valid_x))"
   ]
  },
  {
   "cell_type": "code",
   "execution_count": null,
   "metadata": {},
   "outputs": [],
   "source": [
    "dt = 0.01\n",
    "objp = [(-4, -3), (0, 5)]  # initial positions\n",
    "objv = [(4, 3), (0, -5)]  # initial velocity\n",
    "\n",
    "ground_ssp = []  # ground truth for each object\n",
    "T = []  # translational shift for each object\n",
    "for i in range(len(names)):\n",
    "    ground_ssp.append(\n",
    "        ssp_map.encode_point(objp[i][0], objp[i][1], name=names[i])\n",
    "    )\n",
    "    T.append(ssp_map.encode_point(dt*objv[i][0], dt*objv[i][1], name=None))"
   ]
  },
  {
   "cell_type": "code",
   "execution_count": null,
   "metadata": {},
   "outputs": [],
   "source": [
    "sims = []\n",
    "\n",
    "for step in range(100): \n",
    "    for i in range(len(ground_ssp)):\n",
    "        ground_ssp[i] *= T[i]\n",
    "        ground_ssp[i].name = \"\"  # https://github.com/nengo/nengo-spa/pull/246\n",
    "    ssp = np.sum(ground_ssp)\n",
    "    \n",
    "    estimate_collision = clf.predict([ssp.v]).squeeze(axis=0)\n",
    "    if estimate_collision:\n",
    "        ssp = -ssp\n",
    "\n",
    "    if step % 5 == 0:\n",
    "        sim = np.sum(\n",
    "            [ssp_map.compute_heatmap(ssp * ~ssp_map.voc[name])\n",
    "             for name in names],\n",
    "            axis=0)\n",
    "\n",
    "        sims.append(sim)\n",
    "\n",
    "ani = heatmap_animation([sims], figsize=(4, 4))\n",
    "HTML('<img src=\"data:image/gif;base64,{0}\" />'.format(create_gif(ani)))"
   ]
  },
  {
   "cell_type": "code",
   "execution_count": null,
   "metadata": {},
   "outputs": [],
   "source": [
    "def lemniscate(t, a=4):\n",
    "    # https://mathworld.wolfram.com/Lemniscate.html\n",
    "    b = a * np.cos(t)\n",
    "    return np.asarray([b, b * np.sin(t)]) / (1 + np.sin(t)**2)\n",
    "\n",
    "# speech of each lemniscate\n",
    "dt1 = 0.05\n",
    "dt2 = 0.25\n",
    "# radius of each lemniscate\n",
    "a1 = 4\n",
    "a2 = 3\n",
    "# offset for each lemniscate\n",
    "off1 = np.asarray([0, 0])\n",
    "off2 = np.asarray([-1, -2])\n",
    "# rotation matrix for each lemniscate\n",
    "R1 = np.asarray([[0, 1], [1, 0]])\n",
    "R2 = np.asarray([[1, 0], [0, 1]])\n",
    "\n",
    "sims = []\n",
    "for step in range(126):\n",
    "    ssp = (\n",
    "        ssp_map.encode_point(\n",
    "            *R1.dot(lemniscate(t=dt1*step, a=a1) + off1), name=names[0])\n",
    "        + ssp_map.encode_point(\n",
    "            *R2.dot(lemniscate(t=dt2*step, a=a2) + off2), name=names[1])\n",
    "    )\n",
    "\n",
    "    estimate_collision = clf.predict([ssp.v]).squeeze(axis=0)\n",
    "    if estimate_collision:\n",
    "        ssp = -ssp\n",
    "\n",
    "    if step % 1 == 0:\n",
    "        sim = np.sum(\n",
    "            [ssp_map.compute_heatmap(ssp * ~ssp_map.voc[name])\n",
    "             for name in names],\n",
    "            axis=0)\n",
    "\n",
    "        sims.append(sim)\n",
    "\n",
    "ani = heatmap_animation([sims], figsize=(4, 4))\n",
    "HTML('<img src=\"data:image/gif;base64,{0}\" />'.format(create_gif(ani)))"
   ]
  },
  {
   "cell_type": "code",
   "execution_count": null,
   "metadata": {},
   "outputs": [],
   "source": []
  }
 ],
 "metadata": {
  "kernelspec": {
   "display_name": "LPS Part3",
   "language": "python",
   "name": "lps-part3"
  },
  "language_info": {
   "codemirror_mode": {
    "name": "ipython",
    "version": 3
   },
   "file_extension": ".py",
   "mimetype": "text/x-python",
   "name": "python",
   "nbconvert_exporter": "python",
   "pygments_lexer": "ipython3",
   "version": "3.7.6"
  }
 },
 "nbformat": 4,
 "nbformat_minor": 4
}

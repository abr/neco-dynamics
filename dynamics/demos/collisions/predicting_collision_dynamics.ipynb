{
 "cells": [
  {
   "cell_type": "markdown",
   "metadata": {},
   "source": [
    "### Predicting the Dynamics after Object Interactions\n",
    "\n",
    "We developed an environment containing a number of balls bouncing around in a frictionless 2D plane with elastic collisions between objects (i.e., total conservation of energy). This environment was represented at each time-step using a single SSP (see Figure 6). We found that to get the scales to match, the SSP coordinates need to be scaled by $\\sqrt{2}$.\n",
    "\n",
    "We then trained models to predict the velocity of each object after any interaction (either between an object and the wall, or between two objects that have collided), given the current state of the system (represented using one SSP encoding all of the positions, and another SSP encoding all of the velocities).\n",
    "\n",
    "We found that a single ReLU perceptron is able to correctly predict the angles of each object’s velocity following any object interaction. However, the magnitudes of the velocities were difficult to accurately predict. Future work should consider scaling up these capabilities and systematically evaluating performance. "
   ]
  },
  {
   "cell_type": "code",
   "execution_count": null,
   "metadata": {},
   "outputs": [],
   "source": [
    "%matplotlib inline"
   ]
  },
  {
   "cell_type": "code",
   "execution_count": null,
   "metadata": {},
   "outputs": [],
   "source": [
    "import string\n",
    "\n",
    "import numpy as np\n",
    "\n",
    "import matplotlib.pyplot as plt\n",
    "import seaborn as sns\n",
    "\n",
    "from IPython.display import HTML\n",
    "\n",
    "import nengo_spa as spa\n",
    "from ssp.cleanup import Cleanup\n",
    "from ssp.collisions import generate_collision_data, Simulation\n",
    "from ssp.maps import Spatial2D\n",
    "from ssp.models import MLP\n",
    "from ssp.plots import heatmap_animation, create_gif"
   ]
  },
  {
   "cell_type": "code",
   "execution_count": null,
   "metadata": {},
   "outputs": [],
   "source": [
    "# TODO: refactor common code with benchmarking into ssp/collisions.py\n",
    "\n",
    "grid_size = 5  # in units of circle's diameter\n",
    "n_particles = 3\n",
    "radii = np.ones(n_particles) / grid_size / 2\n",
    "dt = 0.2\n",
    "frames = 500\n",
    "interval = 40"
   ]
  },
  {
   "cell_type": "code",
   "execution_count": null,
   "metadata": {},
   "outputs": [],
   "source": [
    "sim = Simulation(n_particles, radius=radii, rng=np.random.RandomState(seed=0))\n",
    "ani = sim.do_animation(dt=dt, frames=frames, interval=interval)\n",
    "HTML('<img src=\"data:image/gif;base64,{0}\" />'.format(create_gif(ani, fname=\"ideal.gif\")))"
   ]
  },
  {
   "cell_type": "code",
   "execution_count": null,
   "metadata": {},
   "outputs": [],
   "source": [
    "# points in the simulation are within [0, 1]^2 and then visualized\n",
    "# on [-0.5, 0.5]^2 with a scale of sqrt(2)*grid_size such\n",
    "# that the diameter of each ball is roughly the same scale\n",
    "\n",
    "dim = 1024\n",
    "ssp_radius = np.sqrt(2)  # open problem: deriving this\n",
    "ssp_scale = ssp_radius * grid_size\n",
    "\n",
    "ssp_map = Spatial2D(dim=dim, scale=ssp_scale, rng=np.random.RandomState(seed=0))\n",
    "ssp_map.build_grid(x_len=0.5, y_len=0.5, x_spaces=101, y_spaces=101, centered=True)\n",
    "\n",
    "names = string.ascii_uppercase[:n_particles]\n",
    "assert len(names) == n_particles\n",
    "\n",
    "position_offset = -0.5"
   ]
  },
  {
   "cell_type": "code",
   "execution_count": null,
   "metadata": {},
   "outputs": [],
   "source": [
    "sim = Simulation(n_particles, radius=radii, rng=np.random.RandomState(seed=0))\n",
    "\n",
    "heatmaps = []\n",
    "for step in range(frames):    \n",
    "    ssp = ssp_map.encode_points(\n",
    "        sim.x + position_offset, sim.y + position_offset, names,\n",
    "    )\n",
    "    sim.advance(dt)\n",
    "    heatmaps.append(ssp_map.compute_heatmap(ssp, names))\n",
    "\n",
    "ani = heatmap_animation([heatmaps], figsize=(4, 4), interval=interval)\n",
    "HTML('<img src=\"data:image/gif;base64,{0}\" />'.format(create_gif(ani, fname=\"ssp.gif\")))"
   ]
  },
  {
   "cell_type": "code",
   "execution_count": null,
   "metadata": {},
   "outputs": [],
   "source": [
    "sim = Simulation(n_particles, radius=radii, rng=np.random.RandomState(seed=0))\n",
    "\n",
    "X, Y, (low, high) = generate_collision_data(\n",
    "    sim=sim,\n",
    "    dt=dt,\n",
    "    ssp_map=ssp_map,\n",
    "    names=names,\n",
    "    position_offset=position_offset,\n",
    "    n_collisions=10000,\n",
    ")\n",
    "\n",
    "print(low, high)"
   ]
  },
  {
   "cell_type": "code",
   "execution_count": null,
   "metadata": {},
   "outputs": [],
   "source": [
    "split = int(0.8 * len(X))\n",
    "train_X, test_X = X[:split], X[split:]\n",
    "train_Y, test_Y = Y[:split], Y[split:]"
   ]
  },
  {
   "cell_type": "code",
   "execution_count": null,
   "metadata": {},
   "outputs": [],
   "source": [
    "model = MLP(2*dim, [10000], dim)\n",
    "model.train(train_X, train_Y, n_steps=1000)"
   ]
  },
  {
   "cell_type": "code",
   "execution_count": null,
   "metadata": {},
   "outputs": [],
   "source": [
    "test_Yhat = model(test_X)\n",
    "test_cost = model.cost(test_Yhat, test_Y)"
   ]
  },
  {
   "cell_type": "code",
   "execution_count": null,
   "metadata": {},
   "outputs": [],
   "source": [
    "plt.figure()\n",
    "plt.plot(model.costs, label=\"Train\")\n",
    "plt.hlines([test_cost], 0, len(model.costs) - 1, label=\"Test\")\n",
    "plt.legend()\n",
    "plt.yscale('log')\n",
    "plt.show()"
   ]
  },
  {
   "cell_type": "raw",
   "metadata": {},
   "source": [
    "# TODO: this visualization isn't super helpful because the velocity is\n",
    "# on a very different scale (low, high) than the map (ssp_scale / 2)\n",
    "\n",
    "heatmaps = []\n",
    "for i in range(50):\n",
    "    ssp_ideal = spa.SemanticPointer(test_Y[i])\n",
    "    ssp_pred = spa.SemanticPointer(model(test_X[i]))\n",
    "\n",
    "    heatmap_ideal = ssp_map.compute_heatmap(ssp_ideal, names)\n",
    "    heatmap_pred = ssp_map.compute_heatmap(ssp_pred, names)\n",
    "    heatmaps.append([heatmap_ideal, heatmap_pred])\n",
    "    \n",
    "ani = heatmap_animation(list(zip(*heatmaps)), figsize=(8, 4), interval=400)\n",
    "HTML('<img src=\"data:image/gif;base64,{0}\" />'.format(create_gif(ani, fname=\"ssppred.gif\")))"
   ]
  },
  {
   "cell_type": "code",
   "execution_count": null,
   "metadata": {},
   "outputs": [],
   "source": [
    "v_cleanup = Cleanup(model=dim, vocab=ssp_map.voc)\n",
    "v_cleanup.train(objs=names, low=low, high=high, n_steps=500)"
   ]
  },
  {
   "cell_type": "code",
   "execution_count": null,
   "metadata": {},
   "outputs": [],
   "source": [
    "p_cleanup = Cleanup(model=dim, vocab=ssp_map.voc)\n",
    "# [low, high] combines both [-0.5, 0.5]^2 grid and ssp map scale\n",
    "p_cleanup.train(objs=names, low=-ssp_scale/2, high=ssp_scale/2, n_steps=500)"
   ]
  },
  {
   "cell_type": "code",
   "execution_count": null,
   "metadata": {},
   "outputs": [],
   "source": [
    "sim = Simulation(n_particles, radius=radii, rng=np.random.RandomState(seed=42))\n",
    "\n",
    "last_state = None\n",
    "Vhats = None\n",
    "Phats = None\n",
    "\n",
    "heatmaps = []\n",
    "for step in range(frames):\n",
    "    # TODO: refactor this into ssp/collisions.py\n",
    "    P = ssp_map.encode_points(\n",
    "        sim.x + position_offset, sim.y + position_offset, names,\n",
    "    )\n",
    "\n",
    "    if Vhats is None:\n",
    "        # names are not needed here since these will be bound elementwise with P\n",
    "        Vhats = [\n",
    "            ssp_map.encode_point(dt * vx, dt * vy, name=None)\n",
    "            for vx, vy in zip(sim.vx, sim.vy)\n",
    "        ]\n",
    "\n",
    "    if Phats is None:\n",
    "        Phats = [\n",
    "            ssp_map.encode_point(\n",
    "                x + position_offset, y + position_offset, name=name)\n",
    "            for x, y, name in zip(sim.x, sim.y, names)\n",
    "        ]\n",
    "    else:\n",
    "        for i in range(n_particles):\n",
    "            Phats[i] = Phats[i] * Vhats[i]\n",
    "            Phats[i] = ssp_map.voc[names[i]] * p_cleanup(Phats[i] * ~ssp_map.voc[names[i]])\n",
    "            Phats[i].name = \"\"\n",
    "\n",
    "    heatmap_ideal = ssp_map.compute_heatmap(P, names)\n",
    "    heatmap_pred = ssp_map.compute_heatmap(np.sum(Phats), names)\n",
    "    heatmaps.append([heatmap_ideal, heatmap_pred])\n",
    "\n",
    "    this_state = np.vstack([sim.vx, sim.vy])\n",
    "    if last_state is not None and not np.allclose(this_state, last_state):\n",
    "        V_prev = ssp_map.encode_points(\n",
    "            dt * last_state[0], dt * last_state[1], names,\n",
    "        )\n",
    "        ssp_pred = spa.SemanticPointer(model(np.hstack([P.v, V_prev.v])))\n",
    "        \n",
    "        Phats = None\n",
    "        Vhats = [\n",
    "            v_cleanup(ssp_pred * ~ssp_map.voc[name])\n",
    "            for name in names\n",
    "        ]\n",
    "    last_state = this_state\n",
    "\n",
    "    sim.advance(dt)\n",
    "\n",
    "ani = heatmap_animation(list(zip(*heatmaps)), figsize=(8, 4), interval=interval)\n",
    "HTML('<img src=\"data:image/gif;base64,{0}\" />'.format(create_gif(ani, fname=\"ssppred.gif\")))"
   ]
  },
  {
   "cell_type": "code",
   "execution_count": null,
   "metadata": {},
   "outputs": [],
   "source": []
  }
 ],
 "metadata": {
  "kernelspec": {
   "display_name": "LPS Part3",
   "language": "python",
   "name": "lps-part3"
  },
  "language_info": {
   "codemirror_mode": {
    "name": "ipython",
    "version": 3
   },
   "file_extension": ".py",
   "mimetype": "text/x-python",
   "name": "python",
   "nbconvert_exporter": "python",
   "pygments_lexer": "ipython3",
   "version": "3.7.6"
  }
 },
 "nbformat": 4,
 "nbformat_minor": 4
}

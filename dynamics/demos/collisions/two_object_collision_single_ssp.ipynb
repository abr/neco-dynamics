{
 "cells": [
  {
   "cell_type": "markdown",
   "metadata": {},
   "source": [
    "### Colliding two objects together within one SSP\n",
    "\n",
    "Demonstrates sending two objects towards each other in a single SSP. Each step we clean up the position of both objects, update them separately, rebind with their object pointers, and then add back together. This is described in more detail by the following math. \n",
    "\n",
    "SSP representation:\n",
    "\n",
    "$\\text{SSP} = \\text{OBJ}_1 \\ast X^{x_1} \\ast Y^{y_1} + \\text{OBJ}_2 \\ast X^{x_2} \\ast Y^{y_2}$\n",
    "\n",
    "Continuous cleanup function (single layer of 512 ReLUs):\n",
    "\n",
    "$f(X^x \\ast Y^y + \\eta) \\approx X^x \\ast Y^y$\n",
    "\n",
    "Each iteration:\n",
    "\n",
    "$\\text{SSP} \\leftarrow \\text{OBJ}_1 \\ast f(\\text{SSP} \\ast \\text{OBJ}_1^{-1}) \\ast X^{\\Delta x_1} \\ast Y^{\\Delta y_1} + \\text{OBJ}_2 \\ast f(\\text{SSP} \\ast \\text{OBJ}_2^{-1}) \\ast X^{\\Delta x_2} \\ast Y^{\\Delta y_2}$\n",
    "\n",
    "To make this work well (e.g., across 500 iterations), the cleanup data used for training has the ideal scaling (default $\\sigma = 0.1$, which is normalized by $1/\\sqrt{d}$) on the normal noise, and the cleanup always return a unitary vector.\n",
    "\n",
    "The final plot compares the above approach (left) to the ground truth where objects are updated separately (middle), and shows the difference between the two (right)."
   ]
  },
  {
   "cell_type": "code",
   "execution_count": null,
   "metadata": {},
   "outputs": [],
   "source": [
    "%matplotlib inline"
   ]
  },
  {
   "cell_type": "code",
   "execution_count": null,
   "metadata": {},
   "outputs": [],
   "source": [
    "import numpy as np\n",
    "\n",
    "import matplotlib.pyplot as plt\n",
    "import seaborn as sns\n",
    "\n",
    "from IPython.display import HTML\n",
    "\n",
    "from ssp.cleanup import Cleanup, generate_cleanup_data\n",
    "from ssp.maps import Spatial2D\n",
    "from ssp.plots import heatmap_animation, create_gif"
   ]
  },
  {
   "cell_type": "code",
   "execution_count": null,
   "metadata": {},
   "outputs": [],
   "source": [
    "dim = 768\n",
    "names = [\"A\", \"B\"]\n",
    "map_radius = 5  # half-length of square centered about (0, 0)"
   ]
  },
  {
   "cell_type": "code",
   "execution_count": null,
   "metadata": {},
   "outputs": [],
   "source": [
    "ssp_map = Spatial2D(dim=dim, scale=1, rng=np.random.RandomState(seed=0))\n",
    "ssp_map.build_grid(x_len=map_radius, y_len=map_radius,\n",
    "                   x_spaces=101, y_spaces=101, centered=True)"
   ]
  },
  {
   "cell_type": "code",
   "execution_count": null,
   "metadata": {},
   "outputs": [],
   "source": [
    "cleanup = Cleanup(model=dim, vocab=ssp_map.voc)\n",
    "cleanup.train(objs=names, low=-map_radius, high=map_radius)"
   ]
  },
  {
   "cell_type": "code",
   "execution_count": null,
   "metadata": {},
   "outputs": [],
   "source": [
    "valid_x, valid_y = generate_cleanup_data(\n",
    "    ssp_map.voc, names, -map_radius, map_radius)\n",
    "\n",
    "plt.figure()\n",
    "plt.title(\"Cleanup /w Single Layer ReLU\")\n",
    "plt.plot(cleanup.model.costs, label=\"Training\")\n",
    "plt.hlines([cleanup.model.cost(cleanup.model(valid_x), valid_y)],\n",
    "           0, len(cleanup.model.costs) - 1,\n",
    "           label=\"Validation\")\n",
    "plt.legend()\n",
    "plt.xlabel(\"Epoch\")\n",
    "plt.ylabel(\"Cost\")\n",
    "plt.yscale('log')\n",
    "plt.show()"
   ]
  },
  {
   "cell_type": "code",
   "execution_count": null,
   "metadata": {},
   "outputs": [],
   "source": [
    "dt = 0.002\n",
    "objp = [(-4, -3), (0, 5)]  # initial positions\n",
    "objv = [(4, 3), (0, -5)]  # initial velocity\n",
    "\n",
    "ground_ssp = []  # ground truth for each object\n",
    "T = []  # translational shift for each object\n",
    "for i in range(len(names)):\n",
    "    ground_ssp.append(\n",
    "        ssp_map.encode_point(objp[i][0], objp[i][1], name=names[i])\n",
    "    )\n",
    "    T.append(ssp_map.encode_point(dt*objv[i][0], dt*objv[i][1], name=None))\n",
    "\n",
    "ssp = np.sum(ground_ssp)"
   ]
  },
  {
   "cell_type": "code",
   "execution_count": null,
   "metadata": {},
   "outputs": [],
   "source": [
    "sims = []\n",
    "\n",
    "for step in range(500):\n",
    "    new_ssp = ssp_map.voc[\"Zero\"]\n",
    "    clean_ssp = []\n",
    "    for i in range(len(ground_ssp)):\n",
    "        ground_ssp[i] *= T[i]\n",
    "        ground_ssp[i].name = \"\"  # https://github.com/nengo/nengo-spa/pull/246\n",
    "        clean_ssp.append(cleanup(ssp * ~ssp_map.voc[names[i]]))\n",
    "        new_ssp += ssp_map.voc[names[i]] * clean_ssp[i] * T[i]\n",
    "    ssp = new_ssp\n",
    "        \n",
    "    if step % 20 == 0:\n",
    "        sim = np.sum(\n",
    "            [ssp_map.compute_heatmap(clean_ssp[i])\n",
    "             for i in range(len(clean_ssp))],\n",
    "            axis=0)\n",
    "\n",
    "        ground_sim = np.sum(\n",
    "            [ssp_map.compute_heatmap(ground_ssp[i] * ~ssp_map.voc[names[i]])\n",
    "             for i in range(len(ground_ssp))],\n",
    "            axis=0)\n",
    "\n",
    "        sims.append([sim, ground_sim, sim - ground_sim])\n",
    "\n",
    "ani = heatmap_animation(list(zip(*sims)), figsize=(12, 4))\n",
    "HTML('<img src=\"data:image/gif;base64,{0}\" />'.format(create_gif(ani)))"
   ]
  },
  {
   "cell_type": "code",
   "execution_count": null,
   "metadata": {},
   "outputs": [],
   "source": []
  }
 ],
 "metadata": {
  "kernelspec": {
   "display_name": "LPS Part3",
   "language": "python",
   "name": "lps-part3"
  },
  "language_info": {
   "codemirror_mode": {
    "name": "ipython",
    "version": 3
   },
   "file_extension": ".py",
   "mimetype": "text/x-python",
   "name": "python",
   "nbconvert_exporter": "python",
   "pygments_lexer": "ipython3",
   "version": "3.7.6"
  }
 },
 "nbformat": 4,
 "nbformat_minor": 4
}

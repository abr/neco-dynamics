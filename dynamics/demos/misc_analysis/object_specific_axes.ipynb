{
 "cells": [
  {
   "cell_type": "markdown",
   "metadata": {},
   "source": [
    "### Analyzing SSPs with Object-Specific Axes\n",
    "\n",
    "Ideally, one would like to encode a variety of objects in a single SSP and apply a single transformation to the SSP to advance the position of each object along its own unique trajectory. Earlier work illustrates that it is straightforward to apply a linear transformation that advances the position of a single object in isolation, or a linear transformation that advances the position of all objects identically. \n",
    "\n",
    "Below, the use of different spatial axis vectors to encode each object is considered as a solution to this difficulty."
   ]
  },
  {
   "cell_type": "code",
   "execution_count": null,
   "metadata": {},
   "outputs": [],
   "source": [
    "%matplotlib inline"
   ]
  },
  {
   "cell_type": "code",
   "execution_count": null,
   "metadata": {},
   "outputs": [],
   "source": [
    "import base64\n",
    "import itertools\n",
    "\n",
    "from IPython.display import HTML\n",
    "import matplotlib.animation as animation\n",
    "import matplotlib.pyplot as plt\n",
    "import numpy as np\n",
    "import seaborn as sns\n",
    "\n",
    "from ssp.maps import Spatial2D"
   ]
  },
  {
   "cell_type": "code",
   "execution_count": null,
   "metadata": {},
   "outputs": [],
   "source": [
    "dim = 256\n",
    "scale = 10\n",
    "\n",
    "T = 2\n",
    "dt = 0.05\n",
    "\n",
    "x_len = 2\n",
    "y_len = 2\n",
    "x_spaces = 101\n",
    "y_spaces = 101"
   ]
  },
  {
   "cell_type": "markdown",
   "metadata": {},
   "source": [
    "#### 1. Object-Specific Spatial Axes\n",
    "\n",
    "If a set of objects are represented as \n",
    "\n",
    "$M=X^{x_1}\\circledast Y^{y_1} + X^{x_2}\\circledast Y^{y_2}...$\n",
    "\n",
    "then it is possible to shift all objects as follows:\n",
    "\n",
    "$M=M \\circledast X^{\\Delta x} \\circledast Y^{\\Delta y}$\n",
    "\n",
    "due to the properties of fractional exponentiation with HRRs. It is not easy, however, to shift each object independently using this approach. So, we might introduce separate axis encoding vectors for each object and have different parts of a transformation act on specific subsets of these vectors. For instance, we could encode objects as follows:\n",
    "\n",
    "$M=X_A^{x_1}\\circledast Y_A^{y_1} + X_B^{x_2}\\circledast Y_B^{y_2}...$\n",
    "\n",
    "and then do the follow to apply separate transformations to each object:\n",
    "\n",
    "$M=M \\circledast (X_A^{\\Delta x_1} \\circledast Y_A^{\\Delta y_1} + X_B^{\\Delta x_2} \\circledast Y_B^{\\Delta y_2})$\n",
    "\n",
    "This would produce an updated $M$ with $N^2 - N$ noise terms if $N$ is the number of encoded objects, since each term in the bracketed sum would apply to a corresponding term in $M$ and combine with the other $N-1$ terms in $M$ to yield noise. There are $N$ terms in the bracketed sum, so the creation of $N-1$ noise terms occurs $N$ times, leading to a total of $N^2 - N$ noise terms overall. This is obviously not great for scaling up to large numbers of objects, even if the noise is zero-mean. Below is an illustration of the effect of this scaling:"
   ]
  },
  {
   "cell_type": "code",
   "execution_count": null,
   "metadata": {},
   "outputs": [],
   "source": [
    "# create vocab keys for object-specific axis vectors\n",
    "axes = ['X', 'Y']\n",
    "objs = ['A', 'B', 'C']\n",
    "keys = [x+y for x, y in itertools.product(axes, objs)]\n",
    "\n",
    "# create default spatial grid and add vectors for new keys\n",
    "ssp_map = Spatial2D(dim=dim, scale=scale)\n",
    "ssp_map.build_grid(x_len, y_len, x_spaces, y_spaces)\n",
    "ssp_map.voc.populate(\";\".join([k + '.unitary()' for k in keys]))\n",
    "\n",
    "# create axis-specific encoding function based on object name\n",
    "def encode(name, x, y):\n",
    "    x = ssp_map.voc['X' + name] ** (x * scale)\n",
    "    y = ssp_map.voc['Y' + name] ** (y * scale)\n",
    "    return x * y\n",
    "\n",
    "# create grids for each pair of axis keys for object-specific heatmaps\n",
    "grids = {obj: np.zeros_like(ssp_map.ssp_tensor) for obj in objs}\n",
    "\n",
    "for name, grid in grids.items():\n",
    "    for i, x in enumerate(ssp_map.xs):\n",
    "        for j, y in enumerate(ssp_map.ys):\n",
    "            grid[-j, i] = encode(name, x, y).v\n",
    "\n",
    "# create a sample SSP encoding three objects\n",
    "ssp = encode('A', 1, 1) + encode('B', 0.25, 0.5) + encode('C', 1.5, 1)"
   ]
  },
  {
   "cell_type": "code",
   "execution_count": null,
   "metadata": {},
   "outputs": [],
   "source": [
    "# create separate heatmap for each encoded object location\n",
    "cmap = sns.diverging_palette(220, 20, sep=20, as_cmap=True)\n",
    "\n",
    "def plot_setup(figsize, n_subplots):\n",
    "    fig = plt.figure(figsize=figsize)\n",
    "    fig_axes = []\n",
    "    \n",
    "    for n in range(1, n_subplots + 1):\n",
    "        ax = fig.add_subplot(1, n_subplots, n)\n",
    "        fig_axes.append(ax)\n",
    "    \n",
    "    return fig, fig_axes\n",
    "\n",
    "\n",
    "\n",
    "fig, fig_axes = plot_setup(figsize=(16, 5), n_subplots=3)\n",
    "\n",
    "for name, ax in zip(objs, fig_axes):\n",
    "    sim = np.tensordot(grids[name], ssp.v, axes=[[2], [0]])\n",
    "    ax.imshow(sim, vmin=-1, vmax=1, cmap=cmap)\n",
    "    ax.set_title(\"Object %s\" % name)\n",
    "    ax.set_xticks([])\n",
    "    ax.set_yticks([])\n",
    "\n",
    "plt.show()"
   ]
  },
  {
   "cell_type": "code",
   "execution_count": null,
   "metadata": {},
   "outputs": [],
   "source": [
    "# now apply a transformation to the SSP to shift each object\n",
    "Adx = 0.3\n",
    "Ady = 0.3\n",
    "\n",
    "Bdx = -0.1\n",
    "Bdy = -0.2\n",
    "\n",
    "Cdx = -0.5\n",
    "Cdy = 0.3\n",
    "\n",
    "W = encode('A', Adx, Ady) + encode('B', Bdx, Bdy) + encode('C', Cdx, Cdy)\n",
    "ssp = ssp * W\n",
    "\n",
    "fig, fig_axes = plot_setup(figsize=(16, 5), n_subplots=3)\n",
    "\n",
    "for name, ax in zip(objs, fig_axes):\n",
    "    sim = np.tensordot(grids[name], ssp.v, axes=[[2], [0]])\n",
    "    ax.imshow(sim, vmin=-1, vmax=1, cmap=cmap)\n",
    "    ax.set_title(\"Object %s\" % name)\n",
    "    ax.set_xticks([])\n",
    "    ax.set_yticks([])\n",
    "\n",
    "plt.show()"
   ]
  },
  {
   "cell_type": "code",
   "execution_count": null,
   "metadata": {},
   "outputs": [],
   "source": [
    "# now create an animation that applies the transform W repeatedly\n",
    "fig, fig_axes = plot_setup(figsize=(16, 5), n_subplots=3)\n",
    "\n",
    "images = []\n",
    "\n",
    "for t in range(int(T / dt)):\n",
    "    current_frame = []\n",
    "    for name, ax in zip(objs, fig_axes):\n",
    "        sim = np.tensordot(grids[name], ssp.v, axes=[[2], [0]])\n",
    "        im = ax.imshow(sim, vmin=-1, vmax=1, cmap=cmap, animated=True)\n",
    "        current_frame.append(im)\n",
    "        \n",
    "    # apply transformation before moving to next timestep\n",
    "    ssp = ssp * W\n",
    "    images.append(current_frame)\n",
    "        \n",
    "\n",
    "for ax in fig_axes:\n",
    "    ax.set_xticks([])\n",
    "    ax.set_yticks([])    \n",
    "    ax.set_title(\"Object %s\" % name)\n",
    "\n",
    "\n",
    "ani = animation.ArtistAnimation(fig, images, interval=1, blit=True)\n",
    "\n",
    "plt.close()\n",
    "\n",
    "fname = \".atemp.gif\"\n",
    "ani.save(fname, writer='imagemagick')\n",
    "gif = open(fname, \"rb\").read()\n",
    "gif_base64 = base64.b64encode(gif).decode()\n",
    "HTML('<img src=\"data:image/gif;base64,{0}\" />'.format(gif_base64))"
   ]
  },
  {
   "cell_type": "markdown",
   "metadata": {},
   "source": [
    "Overall, this method is even worse than initially assumed, since the noise terms compound at each time step, quickly pushing the signal-to-noise ratio towards zero. Clearly, a cleanup process of some kind is needed between subsequent time-steps in for an approach involving object-specific axis representations to scale effectively. \n",
    "\n",
    "Formally, we can describe the growth of noise terms over time as follows: each term in the bracketed sum described above applies to one corresponding term in $M$ and combines with the other $N-1$ terms in $M$ to yield noise. There are $N$ terms in the bracketed sum, so the creation of $N−1$ noise terms occurs $N$ times, leading to a total of $N^2-N$ noise terms after a single time step. On the next time step, there each term in the bracketed sum applies to one corresponding term in $N$, and then combines with the $N-1$ other encoding terms and the $N^2 - N$ noise terms created by on the previous time step; again, these combinations $N$ times. This yields a total of $N * (N-1 + N^2 - N) = N^3 - N$ noise terms on the second time step. After $t$ timesteps, the number of noise terms is $N^{t+1} - N$."
   ]
  },
  {
   "cell_type": "code",
   "execution_count": null,
   "metadata": {},
   "outputs": [],
   "source": [
    "# plot N / (N^(t+1) - N) to show noise degradation as a function of time\n",
    "timesteps = 10\n",
    "n_values = np.arange(1, 6)\n",
    "\n",
    "def snr(n, timesteps):\n",
    "    times = np.arange(0, timesteps)\n",
    "    noise = [n**(t+1) - n for t in times]\n",
    "    return np.array([n / x if x > 0 else n for x in noise])  # avoid divide by zero\n",
    "\n",
    "plt.figure()\n",
    "for n in n_values:\n",
    "    vals = snr(n, timesteps)\n",
    "    plt.plot(np.arange(0, 10), vals)\n",
    "    \n",
    "plt.legend(n_values)\n",
    "plt.xlabel(\"Timesteps\")\n",
    "plt.ylabel(\"Signal Terms / Noise Terms\")\n",
    "plt.title(\"SNR for N=1 to N=5 encodings\")\n",
    "plt.show()"
   ]
  }
 ],
 "metadata": {
  "kernelspec": {
   "display_name": "Python 3",
   "language": "python",
   "name": "python3"
  },
  "language_info": {
   "codemirror_mode": {
    "name": "ipython",
    "version": 3
   },
   "file_extension": ".py",
   "mimetype": "text/x-python",
   "name": "python",
   "nbconvert_exporter": "python",
   "pygments_lexer": "ipython3",
   "version": "3.7.7"
  }
 },
 "nbformat": 4,
 "nbformat_minor": 4
}

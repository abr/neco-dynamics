{
 "cells": [
  {
   "cell_type": "markdown",
   "metadata": {},
   "source": [
    "### Scaling with Multiple Objects \n"
   ]
  },
  {
   "cell_type": "code",
   "execution_count": null,
   "metadata": {},
   "outputs": [],
   "source": [
    "%matplotlib inline\n",
    "\n",
    "from IPython.display import HTML\n",
    "import numpy as np\n",
    "import matplotlib.pyplot as plt\n",
    "import seaborn as sns\n",
    "\n",
    "from ssp.maps import Spatial2D\n",
    "from ssp.plots import heatmap_animation, create_gif\n",
    "from ssp.dynamics import Trajectory\n",
    "from functools import partial"
   ]
  },
  {
   "cell_type": "code",
   "execution_count": null,
   "metadata": {},
   "outputs": [],
   "source": [
    "dim = 256\n",
    "scale = 10\n",
    "\n",
    "T = 2\n",
    "dt = 0.05\n",
    "n_trials = 5\n",
    "\n",
    "x_len = 2\n",
    "y_len = 2\n",
    "x_spaces = 101\n",
    "y_spaces = 101\n",
    "\n",
    "\n",
    "ssp_map = Spatial2D(dim=dim, scale=scale)\n",
    "ssp_map.build_grid(x_len, y_len, x_spaces, y_spaces)"
   ]
  },
  {
   "cell_type": "code",
   "execution_count": null,
   "metadata": {},
   "outputs": [],
   "source": [
    "traj_a = Trajectory(T, dt)\n",
    "traj_b = Trajectory(T, dt)\n",
    "\n",
    "for sign, name in zip([1, -1], ['A', 'B']):\n",
    "    dxdt_a = partial(lambda sign, t: sign * np.sin(t * np.pi), sign)\n",
    "    dydt_a = partial(lambda sign, t: sign * np.cos(t * np.pi), sign)\n",
    "    traj_a.add_object_spec(name, 1, 1, dxdt_a, dydt_a)\n",
    "\n",
    "    dxdt_b = partial(lambda sign, t: sign * np.ones(len(t)), sign)\n",
    "    dydt_b = lambda t: np.ones(len(t))\n",
    "    traj_b.add_object_spec(name, 0 if sign > 0 else 2, 0, dxdt_b, dydt_b)\n",
    "\n",
    "\n",
    "a_cue = ssp_map.initialize_cue(traj_a)\n",
    "b_cue = ssp_map.initialize_cue(traj_b)\n",
    "\n",
    "a_sims = []\n",
    "for new_ssp in ssp_map.algebraic_dynamics_gen(traj_a):\n",
    "    a_sims.append(ssp_map.compute_heatmap(new_ssp * a_cue))\n",
    "\n",
    "b_sims = []\n",
    "for new_ssp in ssp_map.algebraic_dynamics_gen(traj_b):\n",
    "    b_sims.append(ssp_map.compute_heatmap(new_ssp * b_cue))"
   ]
  },
  {
   "cell_type": "code",
   "execution_count": null,
   "metadata": {},
   "outputs": [],
   "source": [
    "# plot the results\n",
    "figsize = (16, 8)\n",
    "sims = [a_sims, b_sims]\n",
    "titles = ['Trajectory A', 'Trajectory B']\n",
    "\n",
    "ani = heatmap_animation(sims, figsize=figsize, titles=titles)\n",
    "HTML('<img src=\"data:image/gif;base64,{0}\" />'.format(create_gif(ani)))"
   ]
  },
  {
   "cell_type": "markdown",
   "metadata": {},
   "source": [
    "### 2. Random Dynamics with Variable Numbers of Objects\n",
    "\n",
    "Now, to examine the scaling of this approach, we can vary the number of objects encoded in the SSP and see how decoding accuracy changes. "
   ]
  },
  {
   "cell_type": "code",
   "execution_count": null,
   "metadata": {},
   "outputs": [],
   "source": [
    "def create_trajectory(n):\n",
    "    '''Creates random dynamics for N distinct objects'''\n",
    "    trajectory = Trajectory(T, dt)\n",
    "    for idx in range(n):\n",
    "        name = ssp_map.object_keys[idx]\n",
    "        sign = np.random.choice([1, -1])\n",
    "        \n",
    "        # random initial object position\n",
    "        x = np.random.uniform(0.5, x_len - 0.5)\n",
    "        y = np.random.uniform(0.5, y_len - 0.5)\n",
    "        \n",
    "        # random oscillatory dynamics\n",
    "        dxdt = lambda t: sign * np.random.random_sample() * np.sin(t * np.pi)\n",
    "        dydt = lambda t: sign * np.random.random_sample() * np.sin(t * np.pi)\n",
    "       \n",
    "        trajectory.add_object_spec(name, x, y, dxdt, dydt)\n",
    "\n",
    "    return trajectory\n",
    "\n",
    "\n",
    "# generate dynamics with 2, 3, 4 encoded objects\n",
    "sims = [[], [], []]\n",
    "for i, n in enumerate(range(2, 5)):\n",
    "    trajectory = create_trajectory(n)\n",
    "    cue = ssp_map.initialize_cue(trajectory)\n",
    "    \n",
    "    for new_ssp in ssp_map.algebraic_dynamics_gen(trajectory):\n",
    "        sims[i].append(ssp_map.compute_heatmap(new_ssp * cue))       \n",
    "        \n",
    "# plot the results\n",
    "ani = heatmap_animation(sims, figsize=figsize)\n",
    "HTML('<img src=\"data:image/gif;base64,{0}\" />'.format(create_gif(ani)))"
   ]
  },
  {
   "cell_type": "markdown",
   "metadata": {},
   "source": [
    "This obviously doesn't scale particularly well, since there's considerable noise with just four encoded objects. The reason for the poor scaling comes from the fact that the decoding cue used to extract the positions of each object is a sum 𝑁 terms (one per object), and each term creates 𝑁−1 noise terms when the decoding operation is performed. For an encoding with four objects, this means we have four terms of interest in the decoding, along with twelve noise terms. Because the decoding is a linear operation, it won't help to decode each object position in a sequence and combine the results. Rather, some kind of intermediate cleanup step is required. Otherwise, the number of noise terms scales as 𝑁2−𝑁, where 𝑁 is the number of encoded objects.\n",
    "\n",
    "\n",
    "### 3. Random Dynamics with Intermediate Cleanup Steps\n",
    "\n",
    "One way to reduce noise when decoding the positions of the objects from the SSP over time involves decoding each object's position seperately, cleaning up the result, and then combining these clean results to produce a visualization of the object's position."
   ]
  },
  {
   "cell_type": "code",
   "execution_count": null,
   "metadata": {},
   "outputs": [],
   "source": [
    "# generate dynamics with 5, 6, 7 encoded objects\n",
    "sims = [[], [], []]\n",
    "for i, n in enumerate(range(5, 8)):\n",
    "    trajectory = create_trajectory(n)\n",
    "    \n",
    "    for new_ssp in ssp_map.algebraic_dynamics_gen(trajectory):\n",
    "        decoded = ssp_map.cleanup(new_ssp, trajectory.object_names)\n",
    "        sims[i].append(ssp_map.compute_heatmap(decoded))       "
   ]
  },
  {
   "cell_type": "code",
   "execution_count": null,
   "metadata": {},
   "outputs": [],
   "source": [
    "#  plot the results\n",
    "ani = heatmap_animation(sims, figsize=figsize)\n",
    "HTML('<img src=\"data:image/gif;base64,{0}\" />'.format(create_gif(ani)))"
   ]
  },
  {
   "cell_type": "markdown",
   "metadata": {},
   "source": [
    "The results are much nicer here with respect to noise (the scaling is governed by the standard HRR trace capacity analysis), but the object trajectories are less smooth. The observed jittering occurs because the decoded position of each object is being \"snapped\" to the nearest point on the grid that defines how the heatmap is being computed. This could be smoothed by using an average over all items over the cleanup threshold rather than an argmax. Noise ocassionally \"teleports\" objects from one location another (this is unsurprising in the case with with 7 objects since our vector dimensionality is only 256)."
   ]
  }
 ],
 "metadata": {
  "kernelspec": {
   "display_name": "Python 3",
   "language": "python",
   "name": "python3"
  },
  "language_info": {
   "codemirror_mode": {
    "name": "ipython",
    "version": 3
   },
   "file_extension": ".py",
   "mimetype": "text/x-python",
   "name": "python",
   "nbconvert_exporter": "python",
   "pygments_lexer": "ipython3",
   "version": "3.7.6"
  }
 },
 "nbformat": 4,
 "nbformat_minor": 4
}

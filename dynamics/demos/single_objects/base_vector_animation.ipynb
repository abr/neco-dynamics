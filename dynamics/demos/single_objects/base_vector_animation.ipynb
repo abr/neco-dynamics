{
 "cells": [
  {
   "cell_type": "markdown",
   "metadata": {},
   "source": [
    "### Base Vector Animation\n",
    "\n",
    "This produces a visualization of how the SSP map with a single object located at $(0, 0)$, out of view, changes as a function of the base vectors for $X$ and $Y$. Specifically, these base vectors are exponentiated by continuously-varied quantities, which helps to visualize how the landscape changes continuously.\n",
    "\n",
    "Technically, what this demonstrates is that $(X^a)^b \\ne X^{ab}$ in general (since $a, b \\in \\mathbb{R}$), otherwise this animation would do nothing more than zoom in and out of a fixed landscape. Clearly something other than zooming is occurring."
   ]
  },
  {
   "cell_type": "code",
   "execution_count": null,
   "metadata": {},
   "outputs": [],
   "source": [
    "%matplotlib inline"
   ]
  },
  {
   "cell_type": "code",
   "execution_count": null,
   "metadata": {},
   "outputs": [],
   "source": [
    "import base64\n",
    "\n",
    "from IPython.display import HTML\n",
    "import matplotlib.animation as animation\n",
    "import matplotlib.pyplot as plt\n",
    "import numpy as np\n",
    "import seaborn as sns\n",
    "\n",
    "from nengo.utils.progress import Progress, ProgressTracker\n",
    "import nengo_spa as spa\n",
    "\n",
    "from ssp.pointers import BaseVectors"
   ]
  },
  {
   "cell_type": "code",
   "execution_count": null,
   "metadata": {},
   "outputs": [],
   "source": [
    "d = 64\n",
    "rng = np.random.RandomState(seed=0)\n",
    "gen = BaseVectors(d, rng=rng)"
   ]
  },
  {
   "cell_type": "code",
   "execution_count": null,
   "metadata": {},
   "outputs": [],
   "source": [
    "xs = np.linspace(0.05, 1, 300)  # normally -1 to 1\n",
    "ys = np.linspace(0.05, 1, 300)  # normally -1 to 1\n",
    "\n",
    "# cmap = sns.diverging_palette(150, 275, s=80, l=55, as_cmap=True)\n",
    "cmap = sns.diverging_palette(220, 20, sep=20, as_cmap=True)"
   ]
  },
  {
   "cell_type": "code",
   "execution_count": null,
   "metadata": {},
   "outputs": [],
   "source": [
    "X = spa.SemanticPointer(next(gen), name=\"X\")\n",
    "Y = spa.SemanticPointer(next(gen), name=\"Y\")\n",
    "\n",
    "n_frames = 100\n",
    "n_frames_delay = 0\n",
    "reverse_end = True\n",
    "interval = 80  # milliseconds\n",
    "\n",
    "\n",
    "def heatmap(sims):\n",
    "    return plt.imshow(\n",
    "        sims,\n",
    "        interpolation='none',\n",
    "        extent=(xs[0], xs[-1], ys[0], ys[-1]),\n",
    "        #vmin=-1,\n",
    "        #vmax=1,\n",
    "        cmap=cmap,\n",
    "        animated=True,\n",
    "    )\n",
    "\n",
    "\n",
    "fig = plt.figure(figsize=(6, 6))\n",
    "\n",
    "ims = []\n",
    "with ProgressTracker(\n",
    "    True, Progress(\"Animating\", \"Animation\", n_frames)\n",
    ") as progress_bar:\n",
    "    sims = np.zeros((len(ys), len(xs)))\n",
    "    for frame in range(n_frames):\n",
    "        a = 1\n",
    "        b = (1 + 5**0.5) / 2  # golden ratio\n",
    "        scale = 20\n",
    "        k = frame/(n_frames - 1)\n",
    "\n",
    "        # note: SSPs w/ HRR do *not* satisfy ((x**a)**b) == x**(a*b)\n",
    "        # hence bX and bY are not shifting the axes\n",
    "        bX = (X**(1 + a*k))\n",
    "        bY = (Y**(1 + b*k))\n",
    "        for i, x in enumerate(xs):\n",
    "            for j, y in enumerate(ys):\n",
    "                # the zero'th element is the dot-product with\n",
    "                # the identity vector (X**0 * Y**0 regardless of X, Y)\n",
    "                # this is equivalent to visualizing the similarity map\n",
    "                # with one object located at (0, 0)\n",
    "                sims[i, j] = (bX**(x*scale) * bY**(y*scale)).v[0]\n",
    "\n",
    "        ims.append([heatmap(sims)])\n",
    "        progress_bar.total_progress.step()\n",
    "\n",
    "# reverse to first frame and then delay before repeating\n",
    "if reverse_end:\n",
    "    ims.extend(ims[::-1])\n",
    "for _ in range(n_frames_delay):\n",
    "    ims.append(ims[-1])\n",
    "\n",
    "plt.xticks([])\n",
    "plt.yticks([])\n",
    "\n",
    "ani = animation.ArtistAnimation(fig, ims, interval=interval, blit=True)\n",
    "\n",
    "# plt.show()\n",
    "\n",
    "plt.close()"
   ]
  },
  {
   "cell_type": "code",
   "execution_count": null,
   "metadata": {},
   "outputs": [],
   "source": [
    "# HTML(ani.to_html5_video())\n",
    "# save it as a a gif and also embed it in the notebook as HTML\n",
    "\n",
    "fname = \".temp.gif\"\n",
    "ani.save(fname, writer='imagemagick')\n",
    "gif = open(fname, \"rb\").read()\n",
    "gif_base64 = base64.b64encode(gif).decode()\n",
    "HTML('<img src=\"data:image/gif;base64,{0}\" />'.format(gif_base64))"
   ]
  }
 ],
 "metadata": {
  "kernelspec": {
   "display_name": "Python 3",
   "language": "python",
   "name": "python3"
  },
  "language_info": {
   "codemirror_mode": {
    "name": "ipython",
    "version": 3
   },
   "file_extension": ".py",
   "mimetype": "text/x-python",
   "name": "python",
   "nbconvert_exporter": "python",
   "pygments_lexer": "ipython3",
   "version": "3.7.7"
  }
 },
 "nbformat": 4,
 "nbformat_minor": 4
}

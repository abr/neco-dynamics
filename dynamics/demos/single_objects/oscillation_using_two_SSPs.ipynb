{
 "cells": [
  {
   "cell_type": "markdown",
   "metadata": {},
   "source": [
    "### Low-Dimensional Dynamics in SSP Space\n",
    "\n",
    "This notebook demonstrates a 2D harmonic oscillator being learned as a linear-nonlinear transformation in SSP space. Each dimension is represented by a single SSP. The nonlinear operation is binding those two SSPs together. The linear transformation is applied to the concatenation of those 3 SSPs. After each step, the two SSPs are normalized (made unitary), and the nonlinearity is recomputed."
   ]
  },
  {
   "cell_type": "code",
   "execution_count": null,
   "metadata": {},
   "outputs": [],
   "source": [
    "%matplotlib inline"
   ]
  },
  {
   "cell_type": "code",
   "execution_count": null,
   "metadata": {},
   "outputs": [],
   "source": [
    "import nengo\n",
    "import numpy as np\n",
    "import nengo_spa as spa\n",
    "from scipy.linalg import expm\n",
    "\n",
    "import matplotlib.pyplot as plt\n",
    "import matplotlib.animation as animation\n",
    "import seaborn as sns\n",
    "\n",
    "from IPython.display import HTML, display\n",
    "\n",
    "from ssp.pointers import BaseVectors\n",
    "from ssp.plots import create_gif"
   ]
  },
  {
   "cell_type": "code",
   "execution_count": null,
   "metadata": {},
   "outputs": [],
   "source": [
    "dim = 256\n",
    "scale = 10\n",
    "\n",
    "freq = 1\n",
    "dt = 0.0005\n",
    "T = 1\n",
    "\n",
    "n_steps = int(T / dt)\n",
    "t = np.arange(n_steps) * dt"
   ]
  },
  {
   "cell_type": "code",
   "execution_count": null,
   "metadata": {},
   "outputs": [],
   "source": [
    "omega = 2*np.pi*freq\n",
    "\n",
    "# continuous time system (\\dot{x} = Ax)\n",
    "Acont = np.array([[0, omega], [-omega, 0]])\n",
    "\n",
    "# discrete time system (x[t+dt] = Ax[t])\n",
    "A = expm(dt*Acont)\n",
    "print(A)"
   ]
  },
  {
   "cell_type": "code",
   "execution_count": null,
   "metadata": {},
   "outputs": [],
   "source": [
    "# simulate ideal discrete-time system\n",
    "x = np.empty((n_steps, 2))\n",
    "x[0, :] = np.array([1., 0.])\n",
    "for i in range(n_steps-1):\n",
    "    x[i+1, :] = np.dot(A, x[i, :])\n",
    "\n",
    "plt.figure(figsize=(9, 6))\n",
    "plt.plot(t, x)\n",
    "plt.legend(['$x_0$', '$x_1$'])\n",
    "plt.xlabel(\"Time (s)\")\n",
    "plt.show()"
   ]
  },
  {
   "cell_type": "code",
   "execution_count": null,
   "metadata": {},
   "outputs": [],
   "source": [
    "# sanity check that this data is sufficient for learning\n",
    "# the same underlying state-space transformation\n",
    "solver = nengo.solvers.Lstsq()\n",
    "AhatT, info = solver(x[:-1, :], x[1:, :])\n",
    "Ahat = AhatT.T\n",
    "assert np.allclose(Ahat, A)\n",
    "print(info)"
   ]
  },
  {
   "cell_type": "code",
   "execution_count": null,
   "metadata": {},
   "outputs": [],
   "source": [
    "# define a number of methods for representing the vectors in SSP\n",
    "# space that will be used to learn the linear transformation\n",
    "# note the cleanups are dead simple (optional normalization,\n",
    "# with a recompute of the nonlinearity)\n",
    "\n",
    "\n",
    "def normalize(v):\n",
    "    return v / np.linalg.norm(v)\n",
    "\n",
    "\n",
    "class LinearTransform:\n",
    "    \"\"\"Stacks the two SSPs without any nonlinearity.\"\"\"\n",
    "    \n",
    "    def __init__(self, dim, renormalize=True):\n",
    "        self.dim = dim\n",
    "        self.renormalize = renormalize\n",
    "\n",
    "    def __repr__(self):\n",
    "        return \"%s(%d, renormalize=%s)\" % (\n",
    "            type(self).__name__, self.dim, self.renormalize)\n",
    "\n",
    "    @property\n",
    "    def size(self):\n",
    "        return 2*self.dim\n",
    "\n",
    "    def encode(self, x0, x1):\n",
    "        return np.hstack([x0.v, x1.v])\n",
    "    \n",
    "    def decode(self, encoded):\n",
    "        return encoded[:self.dim], encoded[self.dim:]\n",
    "\n",
    "    def cleanup(self, encoded):\n",
    "        # decode, normalize x0 and x1, and then encode\n",
    "        x0, x1 = self.decode(encoded)\n",
    "        if self.renormalize:\n",
    "            x0 = normalize(x0)\n",
    "            x1 = normalize(x1)\n",
    "        # for subclasses, this last step optionally computes\n",
    "        # a nonlinear projection\n",
    "        return self.encode(\n",
    "            spa.SemanticPointer(x0), spa.SemanticPointer(x1),\n",
    "        )\n",
    "    \n",
    "\n",
    "class BindingTransform(LinearTransform):\n",
    "    \"\"\"Incorporates a nonlinear binding of the two SSPs.\"\"\"\n",
    "\n",
    "    @property\n",
    "    def size(self):\n",
    "        return 3*self.dim\n",
    "\n",
    "    def encode(self, x0, x1):\n",
    "        return np.hstack([x0.v, x1.v, (x0*x1).v])\n",
    "\n",
    "    def decode(self, encoded):\n",
    "        return encoded[:self.dim], encoded[self.dim:2*self.dim]\n",
    "\n",
    "\n",
    "class MultiplyTransform(LinearTransform):\n",
    "    \"\"\"Incorporates an elementwise product of the two SSPs.\"\"\"\n",
    "\n",
    "    @property\n",
    "    def size(self):\n",
    "        return 3*self.dim\n",
    "\n",
    "    def encode(self, x0, x1):\n",
    "        return np.hstack([x0.v, x1.v, x0.v * x1.v])\n",
    "\n",
    "    def decode(self, encoded):\n",
    "        return encoded[:self.dim], encoded[self.dim:2*self.dim]"
   ]
  },
  {
   "cell_type": "code",
   "execution_count": null,
   "metadata": {},
   "outputs": [],
   "source": [
    "rng = np.random.RandomState(seed=0)\n",
    "voc = spa.Vocabulary(dim, pointer_gen=BaseVectors(dim, rng=rng))\n",
    "voc.populate('X0; X1')\n",
    "X0, X1 = voc['X0'], voc['X1']"
   ]
  },
  {
   "cell_type": "code",
   "execution_count": null,
   "metadata": {},
   "outputs": [],
   "source": [
    "# transform each of the (x0, x1) SSPs\n",
    "# with an optional nonlinear projection (depends on the transform)\n",
    "\n",
    "transform = BindingTransform(dim, renormalize=True)\n",
    "\n",
    "if transform.size > n_steps:\n",
    "    print(\"Warning: the rank of the linear transformation (%d) \"\n",
    "          \"exceeds the number of time-steps (%d), and so in \"\n",
    "          \"theory a least-squares solved can just memorize the \"\n",
    "          \"targets.\" % (transform.size, n_steps))\n",
    "\n",
    "ssps = np.empty((n_steps, transform.size), dtype=np.float64)\n",
    "for i in range(n_steps):\n",
    "    x0 = X0**(scale*x[i, 0])\n",
    "    x1 = X1**(scale*x[i, 1])\n",
    "    ssps[i, :] = transform.encode(x0, x1)"
   ]
  },
  {
   "cell_type": "code",
   "execution_count": null,
   "metadata": {},
   "outputs": [],
   "source": [
    "# solve for the linear transformation in the SSP space\n",
    "# the regularization here is important\n",
    "\n",
    "solver = nengo.solvers.LstsqL2(reg=5e-3)\n",
    "AsspT, info = solver(ssps[:-1, :], ssps[1:, :])\n",
    "Assp = AsspT.T\n",
    "print(info['rmses'].mean())"
   ]
  },
  {
   "cell_type": "code",
   "execution_count": null,
   "metadata": {},
   "outputs": [],
   "source": [
    "AsspT.shape, ssps.shape"
   ]
  },
  {
   "cell_type": "code",
   "execution_count": null,
   "metadata": {},
   "outputs": [],
   "source": [
    "# test this linear system using only the first vector in\n",
    "# ssps as input\n",
    "\n",
    "# note that if the transform's cleanup does not use some of the\n",
    "# dimensions of `encoded`, then we're basically igoring those rows\n",
    "# in this learned matrix. we could optimize those away if needed.\n",
    "\n",
    "ssps_hat = np.empty_like(ssps)\n",
    "ssps_hat[0, :] = ssps[0, :]\n",
    "\n",
    "for i in range(n_steps-1):\n",
    "    ssps_hat[i+1, :] = transform.cleanup(Assp.dot(ssps_hat[i, :]))"
   ]
  },
  {
   "cell_type": "code",
   "execution_count": null,
   "metadata": {},
   "outputs": [],
   "source": [
    "# decode back out the (x0, x1) SSPs and then visualize them by similarity\n",
    "name = repr(transform)\n",
    "\n",
    "# make tiling over 1D space for computing SSP sims\n",
    "size = 2\n",
    "space = np.linspace(-size, size, 501)\n",
    "\n",
    "def make_tiling(base, scale, space):\n",
    "    array = np.zeros((len(space), len(base)))\n",
    "    for i, point in enumerate(space):\n",
    "        array[i, :] = (base ** (scale * point)).v\n",
    "    return array\n",
    "\n",
    "def plot(name, space, p_sims, v_sims, downsample=25):\n",
    "    fig, ax = plt.subplots()\n",
    "    images = []\n",
    "    for step in range(0, len(p_sims), downsample):\n",
    "        lines = ax.plot(\n",
    "            space,\n",
    "            p_sims[step], 'b',\n",
    "            space,\n",
    "            v_sims[step], 'r',\n",
    "            animated=True)\n",
    "        text = ax.text(space[0], 1, str(step),\n",
    "                       verticalalignment='center', animated=True)\n",
    "        images.append(lines + [text])\n",
    "\n",
    "    # ax.set_xticks([])\n",
    "    plt.title(name)\n",
    "    plt.legend(['$x_0$', '$x_1$'])\n",
    "    ani = animation.ArtistAnimation(fig, images, interval=80, blit=True)\n",
    "    plt.close()\n",
    "    return ani\n",
    "\n",
    "decoded = np.asarray([transform.decode(encoded) for encoded in ssps_hat])\n",
    "x0_sims = np.dot(decoded[:, 0], make_tiling(X0, scale, space).T)\n",
    "x1_sims = np.dot(decoded[:, 1], make_tiling(X1, scale, space).T)\n",
    "\n",
    "HTML('<img src=\"data:image/gif;base64,{0}\" />'.format(\n",
    "    create_gif(\n",
    "        plot(name, space, x0_sims, x1_sims),\n",
    "        fname=\"%s.gif\" % name)))"
   ]
  },
  {
   "cell_type": "code",
   "execution_count": null,
   "metadata": {},
   "outputs": [],
   "source": [
    "plt.title(name)\n",
    "\n",
    "plt.scatter(space[np.argmax(x0_sims, axis=1)],\n",
    "            space[np.argmax(x1_sims, axis=1)],\n",
    "            c=(np.max(x0_sims, axis=1)+np.max(x1_sims, axis=1))/2,\n",
    "            vmin=-1, vmax=1, s=1, cmap='RdYlBu')\n",
    "plt.colorbar()\n",
    "plt.xlabel('$x_0$')\n",
    "plt.ylabel('$x_1$')\n",
    "plt.axis('equal')\n",
    "\n",
    "plt.show()"
   ]
  },
  {
   "cell_type": "code",
   "execution_count": null,
   "metadata": {},
   "outputs": [],
   "source": []
  }
 ],
 "metadata": {
  "kernelspec": {
   "display_name": "LPS Part3",
   "language": "python",
   "name": "lps-part3"
  },
  "language_info": {
   "codemirror_mode": {
    "name": "ipython",
    "version": 3
   },
   "file_extension": ".py",
   "mimetype": "text/x-python",
   "name": "python",
   "nbconvert_exporter": "python",
   "pygments_lexer": "ipython3",
   "version": "3.7.6"
  }
 },
 "nbformat": 4,
 "nbformat_minor": 4
}

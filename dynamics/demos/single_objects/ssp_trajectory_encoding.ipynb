{
 "cells": [
  {
   "cell_type": "markdown",
   "metadata": {},
   "source": [
    "### SSP Trajectory Encoding\n",
    "\n",
    "This demo illustrates how SSPs can be used to memorize and replay continuous trajectories. The \"smoothness\" of the replay depends on the number of sample points used to learn the trajectory, the dimensionality of the SSP, the scaling used to interpolate between specific sample points, and distance between the points used to \"cue\" each sample in the stored trajectory. Relationships between these variables are still being investigated, but it seems like different configurations of them might be used to achieve the same effect, indicating a certain degree of redundancy.\n",
    "\n",
    "For example, the `scale` argument is used to scale the exponentiation that encodes grid points over the represented plane - roughly, the larger this argument is, the more dissimilar vector representations of adjacent points are to one another. When points are encoded into a trajectory by binding each point into a position in a continuous 1D \"cue\" space, we can retrieve a given point from the encoding by binding with the inverse of the vector representation of the right cue space position. If we move between two positions in this cue space, we'll extract a mix of the points bound to these positions, and the degree of the mix will depend on how far we are from each position. Then, how this mix of points translates into interpolation on the grid mentioned above depends on the scale argument, since with a large scale value, there will almost no similarity between the representation of one point and any others.\n",
    "\n",
    "One consequence of this reasoning is that it's actually not clear that we're interpolating in a useful way here, since when we decrease the scale, we're effectively lowering the resolution of the spatial map while including the same number of encoded points in each trajectory. These points then better cover the entire span of the lower-resolution trajectory. Switching the scale between 5 and 20 and running the notebook will illustrate."
   ]
  },
  {
   "cell_type": "code",
   "execution_count": null,
   "metadata": {},
   "outputs": [],
   "source": [
    "%matplotlib inline"
   ]
  },
  {
   "cell_type": "code",
   "execution_count": null,
   "metadata": {},
   "outputs": [],
   "source": [
    "from IPython.display import HTML\n",
    "import numpy as np\n",
    "\n",
    "from ssp.maps import Spatial2D\n",
    "from ssp.utils import interpolate, linear_steps\n",
    "from ssp.plots import heatmap_animation, create_gif"
   ]
  },
  {
   "cell_type": "code",
   "execution_count": null,
   "metadata": {},
   "outputs": [],
   "source": [
    "dim = 1024\n",
    "scale = 5\n",
    "traj_steps = 25\n",
    "step_size = 1\n",
    "\n",
    "x_len = 2\n",
    "y_len = 2\n",
    "x_spaces = 101\n",
    "y_spaces = 101"
   ]
  },
  {
   "cell_type": "code",
   "execution_count": null,
   "metadata": {},
   "outputs": [],
   "source": [
    "ssp_map = Spatial2D(dim=dim, scale=scale)\n",
    "ssp_map.build_grid(x_len, y_len, x_spaces, y_spaces)"
   ]
  },
  {
   "cell_type": "code",
   "execution_count": null,
   "metadata": {},
   "outputs": [],
   "source": [
    "# define some functions to use for generating trajectories\n",
    "absval = lambda x: np.abs(x)\n",
    "cosine = lambda x: 0.5 * np.cos(x * np.pi) + 1\n",
    "circle = lambda x, n: (1 + np.cos(2 * np.pi / n * x) / 2, 1 + np.sin(2 * np.pi / n * x) / 2)\n",
    "\n",
    "absval_points = [(x, absval(x)) for x in np.linspace(0, ssp_map.x_len, traj_steps)]\n",
    "cosine_points = [(x, cosine(x)) for x in np.linspace(0, ssp_map.x_len, traj_steps)]\n",
    "circle_points = [circle(x, traj_steps) for x in range(traj_steps)]"
   ]
  },
  {
   "cell_type": "code",
   "execution_count": null,
   "metadata": {},
   "outputs": [],
   "source": [
    "# encode and decode the trajectories as defined by sample points\n",
    "enc_cues = linear_steps(traj_steps, stepsize=step_size)\n",
    "dec_cues = interpolate(enc_cues, n=5)\n",
    "\n",
    "enc = ssp_map.encode_trajectory(points=absval_points, cues=enc_cues)\n",
    "dec = ssp_map.decode_trajectory(enc, cues=dec_cues)\n",
    "absval_sims = [ssp_map.compute_heatmap(v) for v in dec]\n",
    "\n",
    "enc = ssp_map.encode_trajectory(points=cosine_points, cues=enc_cues)\n",
    "dec = ssp_map.decode_trajectory(enc, cues=dec_cues)\n",
    "cosine_sims = [ssp_map.compute_heatmap(v) for v in dec]\n",
    "\n",
    "enc = ssp_map.encode_trajectory(points=circle_points, cues=enc_cues)\n",
    "dec = ssp_map.decode_trajectory(enc, cues=dec_cues)\n",
    "circle_sims = [ssp_map.compute_heatmap(v) for v in dec]"
   ]
  },
  {
   "cell_type": "code",
   "execution_count": null,
   "metadata": {},
   "outputs": [],
   "source": [
    "# plot the results\n",
    "n_plots = 3\n",
    "n_steps = len(dec_cues)\n",
    "figsize = (16, 8)\n",
    "sims = [absval_sims, cosine_sims, circle_sims]\n",
    "\n",
    "ani = heatmap_animation(sims, figsize=figsize)\n",
    "HTML('<img src=\"data:image/gif;base64,{0}\" />'.format(create_gif(ani)))"
   ]
  }
 ],
 "metadata": {
  "kernelspec": {
   "display_name": "Python 3",
   "language": "python",
   "name": "python3"
  },
  "language_info": {
   "codemirror_mode": {
    "name": "ipython",
    "version": 3
   },
   "file_extension": ".py",
   "mimetype": "text/x-python",
   "name": "python",
   "nbconvert_exporter": "python",
   "pygments_lexer": "ipython3",
   "version": "3.7.6"
  }
 },
 "nbformat": 4,
 "nbformat_minor": 4
}

{
 "cells": [
  {
   "cell_type": "markdown",
   "metadata": {},
   "source": [
    "### Tracking SSP Dynamics\n",
    "\n",
    "This is a demo showing how SSP representations can be used to track the dynamics of a \"ground-truth\" environment defined using the CoppeliaSim physics simulator. To run this notebook in tandem with CoppeliaSim, all you need to do is have the scene `blocks.ttt` (found in the SSP library) open in the background."
   ]
  },
  {
   "cell_type": "code",
   "execution_count": null,
   "metadata": {},
   "outputs": [],
   "source": [
    "%matplotlib inline"
   ]
  },
  {
   "cell_type": "code",
   "execution_count": null,
   "metadata": {},
   "outputs": [],
   "source": [
    "import numpy as np\n",
    "\n",
    "from IPython.display import HTML\n",
    "from ssp.interface import CoppeliaSim\n",
    "from ssp.maps import Spatial2D\n",
    "from ssp.plots import heatmap_animation, create_gif"
   ]
  },
  {
   "cell_type": "code",
   "execution_count": null,
   "metadata": {},
   "outputs": [],
   "source": [
    "dim = 256\n",
    "scale = 15\n",
    "sim_steps = 50\n",
    "\n",
    "# lengths matched to scene in CoppeliaSim\n",
    "x_len = 2\n",
    "y_len = 2\n",
    "x_spaces = 101\n",
    "y_spaces = 101"
   ]
  },
  {
   "cell_type": "code",
   "execution_count": null,
   "metadata": {},
   "outputs": [],
   "source": [
    "objects = ['A', 'B']\n",
    "\n",
    "ssp_map = Spatial2D(dim=dim, scale=scale)\n",
    "ssp_map.build_grid(x_len, y_len, x_spaces, y_spaces)\n",
    "\n",
    "heatmaps = []\n",
    "\n",
    "# create the interface and heatmaps tracking sim state\n",
    "with CoppeliaSim(dt=0.005) as interface:\n",
    "    interface.set_sensor('Vision_sensor')\n",
    "    \n",
    "    for obj in objects:\n",
    "        interface.create_object(obj)\n",
    "        interface.apply_force(obj)\n",
    "    \n",
    "    for step in range(sim_steps):\n",
    "        ssp_map.update_from_sim(interface)\n",
    "        heatmaps.append(ssp_map.heatmap_scores)\n",
    "        interface.advance()"
   ]
  },
  {
   "cell_type": "code",
   "execution_count": null,
   "metadata": {
    "scrolled": true
   },
   "outputs": [],
   "source": [
    "# plot CoppeliaSim and SSP representations for comparison\n",
    "n_plots = 2\n",
    "n_steps = len(interface.sensor_data)\n",
    "figsize = (12, 6)\n",
    "sims = [interface.sensor_data, heatmaps]\n",
    "\n",
    "ani = heatmap_animation(sims, figsize=figsize)\n",
    "HTML('<img src=\"data:image/gif;base64,{0}\" />'.format(create_gif(ani)))"
   ]
  }
 ],
 "metadata": {
  "kernelspec": {
   "display_name": "Python 3",
   "language": "python",
   "name": "python3"
  },
  "language_info": {
   "codemirror_mode": {
    "name": "ipython",
    "version": 3
   },
   "file_extension": ".py",
   "mimetype": "text/x-python",
   "name": "python",
   "nbconvert_exporter": "python",
   "pygments_lexer": "ipython3",
   "version": "3.7.6"
  }
 },
 "nbformat": 4,
 "nbformat_minor": 4
}

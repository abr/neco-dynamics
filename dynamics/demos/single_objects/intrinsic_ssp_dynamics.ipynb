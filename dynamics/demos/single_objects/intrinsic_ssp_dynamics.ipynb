{
 "cells": [
  {
   "cell_type": "markdown",
   "metadata": {},
   "source": [
    "### Intrinsic SSP Dynamics\n",
    "\n",
    "This is a research-oriented demo that shows how SSPs can be updated by applying a recurrent transformation in the semantic pointer space such that the SSP evolves as a dynamical system. This uses Nengo, a population of IF spiking neurons, and a lowpass synapse on the recurrent connection."
   ]
  },
  {
   "cell_type": "code",
   "execution_count": null,
   "metadata": {},
   "outputs": [],
   "source": [
    "%matplotlib inline"
   ]
  },
  {
   "cell_type": "code",
   "execution_count": null,
   "metadata": {},
   "outputs": [],
   "source": [
    "import base64\n",
    "\n",
    "from IPython.display import HTML\n",
    "import matplotlib.animation as animation\n",
    "import matplotlib.pyplot as plt\n",
    "import numpy as np\n",
    "import seaborn as sns\n",
    "\n",
    "import nengo\n",
    "import nengo_spa as spa\n",
    "\n",
    "from nengo.utils.progress import Progress, ProgressTracker\n",
    "from nengo.utils.matplotlib import rasterplot\n",
    "from nengo_extras.plot_spikes import preprocess_spikes\n",
    "\n",
    "from ssp.pointers import BaseVectors"
   ]
  },
  {
   "cell_type": "code",
   "execution_count": null,
   "metadata": {},
   "outputs": [],
   "source": [
    "d = 64\n",
    "rng = np.random.RandomState(seed=0)\n",
    "gen = BaseVectors(d, rng=rng)"
   ]
  },
  {
   "cell_type": "code",
   "execution_count": null,
   "metadata": {},
   "outputs": [],
   "source": [
    "from nengo_spa.algebras import HrrAlgebra\n",
    "algebra = HrrAlgebra()\n",
    "X = spa.SemanticPointer(next(gen), algebra=algebra, name=\"X\")\n",
    "Y = spa.SemanticPointer(next(gen), algebra=algebra, name=\"Y\")"
   ]
  },
  {
   "cell_type": "code",
   "execution_count": null,
   "metadata": {},
   "outputs": [],
   "source": [
    "# here we initially define a dX and dY translation in discrete time\n",
    "# (i.e., with respect to the unit of discrete time-steps)\n",
    "dx = 0.15\n",
    "dy = 0.05\n",
    "dt = 0.005\n",
    "\n",
    "# we then determine the corresponding linear transformation\n",
    "# (still in discrete time)\n",
    "dX = X**dx\n",
    "dY = Y**dy\n",
    "T = algebra.get_binding_matrix((dX * dY).v)"
   ]
  },
  {
   "cell_type": "code",
   "execution_count": null,
   "metadata": {},
   "outputs": [],
   "source": [
    "# optionally, we convert this into a continuous-time system whose\n",
    "# time-constant will be with respect to the given time-step\n",
    "# from nengolib.signal import discrete2cont, LinearSystem\n",
    "# A, B, _, _ = discrete2cont(\n",
    "#     LinearSystem((T, 1, 1, 0), analog=False), dt=dt, method='zoh').ss\n",
    "# assert np.allclose(B, 1/dt)"
   ]
  },
  {
   "cell_type": "code",
   "execution_count": null,
   "metadata": {},
   "outputs": [],
   "source": [
    "# now, we apply \"discrete principle 3\" (Voelker, 2019; equation 5.32)\n",
    "# to map the discrete-time transformation onto a discretized lowpass\n",
    "# with the given tau as its time-constant\n",
    "tau = 0.1\n",
    "a = np.exp(-dt / tau)\n",
    "W = (T - a*np.eye(d)) / (1 - a)"
   ]
  },
  {
   "cell_type": "code",
   "execution_count": null,
   "metadata": {},
   "outputs": [],
   "source": [
    "# define an initial starting point for the SSP\n",
    "x0 = -8\n",
    "y0 = -2\n",
    "ssp0 = X**x0 * Y**y0"
   ]
  },
  {
   "cell_type": "code",
   "execution_count": null,
   "metadata": {},
   "outputs": [],
   "source": [
    "# define the Nengo model with two spiking ReLU (IF) neurons per\n",
    "# dimension (potentially spiking more than once per time-step)\n",
    "# with W on a filtered recurrent connection\n",
    "\n",
    "omega = 0.1*d  # scales the number of spikes (SNR)\n",
    "with nengo.Network() as model:\n",
    "    ssp = nengo.networks.EnsembleArray(\n",
    "        n_neurons=2,\n",
    "        n_ensembles=d,\n",
    "        encoders=[[+1], [-1]],\n",
    "        gain=[omega/dt, omega/dt],\n",
    "        bias=[0, 0],\n",
    "        neuron_type=nengo.SpikingRectifiedLinear(),\n",
    "    )\n",
    "    conn = nengo.Connection(\n",
    "        ssp.add_output('output', function=lambda x:x, solver=nengo.solvers.Lstsq()),\n",
    "        ssp.input,\n",
    "        transform=W,\n",
    "        synapse=tau,\n",
    "    )\n",
    "    p = nengo.Probe(ssp.input, synapse=None)  # the input is already filtered\n",
    "    p_neurons = nengo.Probe(ssp.add_neuron_output(), synapse=None)\n",
    "\n",
    "with nengo.Simulator(model, dt=dt) as sim:\n",
    "    # initialize the PSC to the initial location of the SSP\n",
    "    # (analogous to starting of an oscillator at some particular point\n",
    "    # in space). this is far more accurate than giving it a \"kick\"\n",
    "    signal = sim.model.sig[conn.synapse]\n",
    "    sim.signals[signal['_state_X']] = [ssp0.v]\n",
    "\n",
    "    # initialize the voltages to be uniformly distributed so there's\n",
    "    # no initial transient (i.e., the neurons are already \"mixed\")\n",
    "    for ens in ssp.ensembles:\n",
    "        assert isinstance(ens.neuron_type, nengo.SpikingRectifiedLinear)\n",
    "        signal = sim.model.sig[ens.neurons]\n",
    "        sim.signals[signal['voltage']] = rng.rand(ens.n_neurons)\n",
    "\n",
    "    sim.run(0.5)"
   ]
  },
  {
   "cell_type": "code",
   "execution_count": null,
   "metadata": {},
   "outputs": [],
   "source": [
    "# compute the region map\n",
    "scale = 10\n",
    "xs = np.linspace(-scale, scale, 150)\n",
    "ys = np.linspace(-scale, scale, 150)\n",
    "\n",
    "# cmap = sns.diverging_palette(150, 275, s=80, l=55, as_cmap=True)\n",
    "cmap = sns.diverging_palette(220, 20, sep=20, as_cmap=True)\n",
    "\n",
    "m = np.empty((len(ys), len(xs), d))\n",
    "for i, x in enumerate(xs):\n",
    "    for j, y in enumerate(ys):\n",
    "        m[j, i] = (X**x * Y**y).v"
   ]
  },
  {
   "cell_type": "code",
   "execution_count": null,
   "metadata": {},
   "outputs": [],
   "source": [
    "# compute the similarity map for every time-step in parallel\n",
    "sims = m.dot(sim.data[p].T)"
   ]
  },
  {
   "cell_type": "code",
   "execution_count": null,
   "metadata": {},
   "outputs": [],
   "source": [
    "# render an animation for the simulation\n",
    "fig = plt.figure(figsize=(6, 6))\n",
    "\n",
    "ims = []\n",
    "with ProgressTracker(\n",
    "    True, Progress(\"Animating\", \"Animation\", len(sim.trange()))\n",
    ") as progress_bar:\n",
    "    for i in range(len(sim.trange())):\n",
    "        im = plt.imshow(\n",
    "            sims[:, :, i],\n",
    "            interpolation='none',\n",
    "            extent=(xs[0], xs[-1], ys[0], ys[-1]),\n",
    "            vmin=-1,\n",
    "            vmax=1,\n",
    "            cmap=cmap,\n",
    "            animated=True,\n",
    "        )\n",
    "\n",
    "        ims.append([im])\n",
    "        progress_bar.total_progress.step()\n",
    "\n",
    "plt.xticks([])\n",
    "plt.yticks([])\n",
    "plt.gca().invert_yaxis()\n",
    "\n",
    "ani = animation.ArtistAnimation(fig, ims, interval=50, blit=True)\n",
    "\n",
    "# plt.show()\n",
    "plt.close()"
   ]
  },
  {
   "cell_type": "code",
   "execution_count": null,
   "metadata": {},
   "outputs": [],
   "source": [
    "# HTML(ani.to_html5_video())\n",
    "\n",
    "# save it as a a gif and also embed it in the notebook as HTML\n",
    "fname = \".temp.gif\"\n",
    "ani.save(fname, writer='imagemagick')\n",
    "gif = open(fname, \"rb\").read()\n",
    "gif_base64 = base64.b64encode(gif).decode()\n",
    "HTML('<img src=\"data:image/gif;base64,{0}\" />'.format(gif_base64))"
   ]
  },
  {
   "cell_type": "code",
   "execution_count": null,
   "metadata": {},
   "outputs": [],
   "source": [
    "# for reference, compute the expected final location\n",
    "# based on the ideal dynamical system and then plot it\n",
    "\n",
    "xt = x0 + dx * len(sim.trange())\n",
    "yt = y0 + dy * len(sim.trange())\n",
    "sspt = X**xt * Y**yt\n",
    "\n",
    "for name, v in ((\"Ideal Start\", ssp0.v),\n",
    "                (\"Ideal End\", sspt.v)):\n",
    "    ref = m.dot(v)\n",
    "\n",
    "    plt.figure(figsize=(6, 6))\n",
    "    plt.title(name)\n",
    "    plt.imshow(\n",
    "        ref,\n",
    "        interpolation='none',\n",
    "        extent=(xs[0], xs[-1], ys[0], ys[-1]),\n",
    "        vmin=-1,\n",
    "        vmax=1,\n",
    "        cmap=cmap,\n",
    "    )\n",
    "    plt.xticks([])\n",
    "    plt.yticks([])\n",
    "    plt.gca().invert_yaxis()\n",
    "    plt.show()"
   ]
  },
  {
   "cell_type": "code",
   "execution_count": null,
   "metadata": {},
   "outputs": [],
   "source": [
    "# show rasterplot of spikes, avg. spikes per neuron\n",
    "plt.figure(figsize=(12, 6))\n",
    "plt.subplot(1, 2, 1)\n",
    "rasterplot(*preprocess_spikes(sim.trange(), sim.data[p_neurons], num=128))\n",
    "plt.xlabel(\"Time\")\n",
    "plt.ylabel(\"Neuron Number\")\n",
    "\n",
    "plt.subplot(1, 2, 2)\n",
    "plt.plot(\n",
    "    np.sum(sim.data[p_neurons] * dt, axis=1) / d,\n",
    ")\n",
    "plt.xlabel(\"Time-step\")\n",
    "plt.ylabel(\"# Spikes per Dimension\")\n",
    "plt.show()"
   ]
  }
 ],
 "metadata": {
  "kernelspec": {
   "display_name": "Python 3",
   "language": "python",
   "name": "python3"
  },
  "language_info": {
   "codemirror_mode": {
    "name": "ipython",
    "version": 3
   },
   "file_extension": ".py",
   "mimetype": "text/x-python",
   "name": "python",
   "nbconvert_exporter": "python",
   "pygments_lexer": "ipython3",
   "version": "3.7.6"
  }
 },
 "nbformat": 4,
 "nbformat_minor": 4
}

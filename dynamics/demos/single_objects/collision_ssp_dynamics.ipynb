{
 "cells": [
  {
   "cell_type": "markdown",
   "metadata": {},
   "source": [
    "### Elastic SSP Collision Dynamics\n",
    "\n",
    "This demo illustrates how collisions can be incorporated into models of system dynamics encoded with SSPs. Specifically, we produce simple bouncing dyanmics by modelling the impact of a dropped object on a solid floor.  "
   ]
  },
  {
   "cell_type": "code",
   "execution_count": null,
   "metadata": {},
   "outputs": [],
   "source": [
    "%matplotlib inline"
   ]
  },
  {
   "cell_type": "code",
   "execution_count": null,
   "metadata": {},
   "outputs": [],
   "source": [
    "import numpy as np\n",
    "\n",
    "from IPython.display import HTML\n",
    "from ssp.maps import Spatial2D\n",
    "from ssp.plots import heatmap_animation, create_gif"
   ]
  },
  {
   "cell_type": "code",
   "execution_count": null,
   "metadata": {},
   "outputs": [],
   "source": [
    "dim = 512\n",
    "scale = 10\n",
    "\n",
    "T = 10\n",
    "dt = 0.05\n",
    "\n",
    "x_len = 2\n",
    "y_len = 2\n",
    "x_spaces = 101\n",
    "y_spaces = 101"
   ]
  },
  {
   "cell_type": "code",
   "execution_count": null,
   "metadata": {},
   "outputs": [],
   "source": [
    "ssp_map = Spatial2D(dim=dim, scale=scale, decode_threshold=0.3)\n",
    "ssp_map.build_grid(x_len, y_len, x_spaces, y_spaces)"
   ]
  },
  {
   "cell_type": "code",
   "execution_count": null,
   "metadata": {},
   "outputs": [],
   "source": [
    "# define a first example with an object being dropped\n",
    "d2xdt = lambda t: np.zeros(len(t))\n",
    "d2ydt = lambda t: -10 * np.ones(len(t))  \n",
    "\n",
    "# define starting point\n",
    "ssp = ssp_map.encode_point(0, 2)\n",
    "\n",
    "simple_sims = []\n",
    "for sp in ssp_map.bounce_dynamics_gen(T, dt, ssp, vx=1, vy=0, d2xdt=d2xdt, d2ydt=d2ydt):\n",
    "    simple_sims.append(ssp_map.compute_heatmap(sp))"
   ]
  },
  {
   "cell_type": "code",
   "execution_count": null,
   "metadata": {},
   "outputs": [],
   "source": [
    "# define a second example with an object being tossed\n",
    "ssp = ssp_map.encode_point(0, 1.1)\n",
    "\n",
    "complex_sims = []\n",
    "for sp in ssp_map.bounce_dynamics_gen(T, dt, ssp, vx=1, vy=12, d2xdt=d2xdt, d2ydt=d2ydt):\n",
    "    complex_sims.append(ssp_map.compute_heatmap(sp))"
   ]
  },
  {
   "cell_type": "code",
   "execution_count": null,
   "metadata": {},
   "outputs": [],
   "source": [
    "# plot CoppeliaSim and SSP representations for comparison\n",
    "n_plots = 2\n",
    "n_steps = int(T / dt)\n",
    "figsize = (16, 8)\n",
    "sims = [simple_sims, complex_sims]\n",
    "\n",
    "ani = heatmap_animation(sims, figsize=figsize)\n",
    "HTML('<img src=\"data:image/gif;base64,{0}\" />'.format(create_gif(ani)))"
   ]
  },
  {
   "cell_type": "code",
   "execution_count": null,
   "metadata": {},
   "outputs": [],
   "source": []
  }
 ],
 "metadata": {
  "kernelspec": {
   "display_name": "Python 3",
   "language": "python",
   "name": "python3"
  },
  "language_info": {
   "codemirror_mode": {
    "name": "ipython",
    "version": 3
   },
   "file_extension": ".py",
   "mimetype": "text/x-python",
   "name": "python",
   "nbconvert_exporter": "python",
   "pygments_lexer": "ipython3",
   "version": "3.7.6"
  }
 },
 "nbformat": 4,
 "nbformat_minor": 4
}

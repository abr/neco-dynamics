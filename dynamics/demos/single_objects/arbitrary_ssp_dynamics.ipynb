{
 "cells": [
  {
   "cell_type": "markdown",
   "metadata": {},
   "source": [
    "### Arbitrary SSP Dynamics\n",
    "\n",
    "This demo illustrates how changing compound motions can be applied to an SSP position encoding. Motions are encoded as semantic pointers that implement dynamics specified by functions that relate velocity or acceleration to time. The `simple_dynamics_gen` accepts functions that compute velocity with respect to time along each axis, while `complex_dynamics_gen` accepts functions that compute acceleration with respect to time along each axis. The `complex_dynamics_gen` also requires specifying an initial velocity along each axis.  "
   ]
  },
  {
   "cell_type": "code",
   "execution_count": null,
   "metadata": {},
   "outputs": [],
   "source": [
    "%matplotlib inline"
   ]
  },
  {
   "cell_type": "code",
   "execution_count": null,
   "metadata": {},
   "outputs": [],
   "source": [
    "import numpy as np\n",
    "\n",
    "from IPython.display import HTML\n",
    "from ssp.maps import Spatial2D\n",
    "from ssp.plots import heatmap_animation, create_gif"
   ]
  },
  {
   "cell_type": "code",
   "execution_count": null,
   "metadata": {},
   "outputs": [],
   "source": [
    "dim = 256\n",
    "scale = 10\n",
    "\n",
    "T = 5\n",
    "dt = 0.05\n",
    "\n",
    "x_len = 2\n",
    "y_len = 2\n",
    "x_spaces = 101\n",
    "y_spaces = 101"
   ]
  },
  {
   "cell_type": "code",
   "execution_count": null,
   "metadata": {},
   "outputs": [],
   "source": [
    "ssp_map = Spatial2D(dim=dim, scale=scale)\n",
    "ssp_map.build_grid(x_len, y_len, x_spaces, y_spaces)"
   ]
  },
  {
   "cell_type": "code",
   "execution_count": null,
   "metadata": {},
   "outputs": [],
   "source": [
    "# define some functions to specify simple dynamics\n",
    "dxdt = lambda t: 10 * np.sin(t * np.pi)\n",
    "dydt = lambda t: 10 * np.cos(t * np.pi)\n",
    "\n",
    "# define starting point\n",
    "ssp = ssp_map.encode_point(1, 1)\n",
    "\n",
    "simple_sims = []\n",
    "for delta in ssp_map.simple_dynamics_gen(T, dt, dxdt, dydt):\n",
    "    ssp *= delta\n",
    "    simple_sims.append(ssp_map.compute_heatmap(ssp))"
   ]
  },
  {
   "cell_type": "code",
   "execution_count": null,
   "metadata": {},
   "outputs": [],
   "source": [
    "# define some more complex dynamics (gravity in this case)\n",
    "d2xdt = lambda t: np.zeros(len(t))\n",
    "d2ydt = lambda t: -10 * np.ones(len(t))\n",
    "\n",
    "ssp = ssp_map.encode_point(0, 0)\n",
    "\n",
    "complex_sims = []\n",
    "for delta in ssp_map.complex_dynamics_gen(T, dt, vx=5, vy=20, d2xdt=d2xdt, d2ydt=d2ydt):\n",
    "    ssp *= delta\n",
    "    complex_sims.append(ssp_map.compute_heatmap(ssp))"
   ]
  },
  {
   "cell_type": "code",
   "execution_count": null,
   "metadata": {},
   "outputs": [],
   "source": [
    "# plot CoppeliaSim and SSP representations for comparison\n",
    "n_plots = 2\n",
    "n_steps = int(T / dt)\n",
    "figsize = (16, 8)\n",
    "sims = [simple_sims, complex_sims]\n",
    "\n",
    "ani = heatmap_animation(sims, figsize=figsize)\n",
    "HTML('<img src=\"data:image/gif;base64,{0}\" />'.format(create_gif(ani)))"
   ]
  }
 ],
 "metadata": {
  "kernelspec": {
   "display_name": "Python 3",
   "language": "python",
   "name": "python3"
  },
  "language_info": {
   "codemirror_mode": {
    "name": "ipython",
    "version": 3
   },
   "file_extension": ".py",
   "mimetype": "text/x-python",
   "name": "python",
   "nbconvert_exporter": "python",
   "pygments_lexer": "ipython3",
   "version": "3.7.6"
  }
 },
 "nbformat": 4,
 "nbformat_minor": 4
}

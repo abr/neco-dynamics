{
 "cells": [
  {
   "cell_type": "markdown",
   "metadata": {},
   "source": [
    "## Analyzing Dynamics Approximations with ML Models\n"
   ]
  },
  {
   "cell_type": "code",
   "execution_count": null,
   "metadata": {},
   "outputs": [],
   "source": [
    "%matplotlib inline\n",
    "import string\n",
    "import numpy as np\n",
    "import nengo_spa as spa\n",
    "\n",
    "from IPython.display import HTML, display\n",
    "\n",
    "from ssp.maps import Spatial2D\n",
    "from ssp.models import Linear, MLP\n",
    "from ssp.dynamics import Trajectory\n",
    "from ssp.plots import heatmap_animation, lineplot_animation, eigenvector_animation\n",
    "from ssp.plots import create_quiver, create_gif\n",
    "from ssp.utils import create_data\n",
    "from functools import partial"
   ]
  },
  {
   "cell_type": "code",
   "execution_count": null,
   "metadata": {},
   "outputs": [],
   "source": [
    "dim = 256\n",
    "scale = 10\n",
    "\n",
    "t = 2\n",
    "dt = 0.05\n",
    "n_steps = int(t / dt)\n",
    "\n",
    "x_len = 2\n",
    "y_len = 2\n",
    "x_spaces = 41\n",
    "y_spaces = 41\n",
    "decode_threshold = 0.5\n",
    "\n",
    "init_x = 1\n",
    "init_y = 1\n",
    "\n",
    "ssp_map = Spatial2D(dim=dim, scale=scale, decode_threshold=decode_threshold)\n",
    "ssp_map.build_grid(x_len, y_len, x_spaces, y_spaces)"
   ]
  },
  {
   "cell_type": "markdown",
   "metadata": {},
   "source": [
    "### 1. Initial Analysis of State Space Tiling Representations\n",
    "\n",
    "As suggested in the last notebook, nearby points in the SSP encoding of the state space are given near-orthogonal representations, which can likely impair generalization due to the fact that it reduces the similarity of representations of similar object position encodings.  "
   ]
  },
  {
   "cell_type": "code",
   "execution_count": null,
   "metadata": {},
   "outputs": [],
   "source": [
    "x_sims, y_sims = [], []\n",
    "x_gens, y_gens = [], []\n",
    "\n",
    "for scale in range(1, 11):\n",
    "    # build new encodings for each scaling choice, then compute covariances\n",
    "    ssp_map = Spatial2D(dim, scale, decode_threshold)\n",
    "    ssp_map.build_grid(x_len, y_len, x_spaces, y_spaces)\n",
    "    \n",
    "    x_tiles = ssp_map.ssp_tensor[:, 0, :]\n",
    "    y_tiles = ssp_map.ssp_tensor[0, :, :]\n",
    "    \n",
    "    x_cov = np.dot(x_tiles, x_tiles.T)\n",
    "    y_cov = np.dot(y_tiles, y_tiles.T)\n",
    "    \n",
    "    x_sims.append(x_cov)\n",
    "    y_sims.append(y_cov)\n",
    "    \n",
    "    x_spans, y_spans = [], []\n",
    "\n",
    "    # now measure span of activated coordinates for encodings along each axis\n",
    "    for step in range(len(ssp_map.xs)):\n",
    "        x_span = len(np.where(x_cov[:, step] > decode_threshold)[0]) \n",
    "        y_span = len(np.where(y_cov[:, step] > decode_threshold)[0]) \n",
    "        \n",
    "        # normalize by distance between tiling points\n",
    "        x_spans.append(x_span * x_len / x_spaces)\n",
    "        y_spans.append(y_span * y_len / y_spaces)\n",
    "  \n",
    "    x_gens.append(x_spans)\n",
    "    y_gens.append(y_spans)"
   ]
  },
  {
   "cell_type": "code",
   "execution_count": null,
   "metadata": {},
   "outputs": [],
   "source": [
    "# plot covariance matrices for encodings along each axis as scale increases\n",
    "figsize = (16, 8)\n",
    "sims = [x_sims, y_sims]\n",
    "titles = ['X Tiling Covariance - Scale Shifted from 1 to 10', \n",
    "          'Y Tiling Covariance - Scale Shifted from 1 to 10']\n",
    "\n",
    "ani = heatmap_animation(sims, figsize, titles, interval=1000)\n",
    "HTML('<img src=\"data:image/gif;base64,{0}\" />'.format(create_gif(ani, fname='tiling.gif')))"
   ]
  },
  {
   "cell_type": "code",
   "execution_count": null,
   "metadata": {},
   "outputs": [],
   "source": [
    "# plot effective point encoding width over each axis as scale increases\n",
    "lines = [x_gens, y_gens]\n",
    "titles = ['Effective Width of X-Encoding - Scale Shifted from 1 to 10', \n",
    "          'Effective Width of Y-Encoding - Scale Shifted from 1 to 10']\n",
    "\n",
    "ani = lineplot_animation(lines, figsize, titles, interval=1000)\n",
    "HTML('<img src=\"data:image/gif;base64,{0}\" />'.format(create_gif(ani, fname='width.gif')))"
   ]
  },
  {
   "cell_type": "markdown",
   "metadata": {},
   "source": [
    "The takeaway here is that the scaling factor determines the \"resolution\" of an SSP encoding. Since we're using thresholding to decode information from an SSP, the span of the positions that are above threshold for a given encoding determines the area of the encoded point; lower scaling leads to larger point encodings, though increased scaling has diminishing returns with respect to shrinking these encodings, since each point cannot be smaller than the minimal area determined by the spacing used to tile the environment for e.g. computing heatmaps, doing cleanup, etc. The resolution determined by the chosen scale likely has an effect on the performance on learned models of SSP dynamics, since \"larger\" point encodings require a model to learn tighter decision boundaries with respect to how to transform a given encoding. Intuitively, there is less to discriminate encodings of nearby points from one another, since by hypothesis their encodings are highly similar to one another. "
   ]
  },
  {
   "cell_type": "markdown",
   "metadata": {},
   "source": [
    "### 2. Analyzing Learned Dynamics\n",
    "\n",
    "A learned model of SSP dynamics approximates a function that repeatedly updates the SSP to encode the next point along some trajectory, such that \n",
    "\n",
    "$ SSP = f(SSP) $\n",
    "\n",
    "where $f$ is a function approximated from training data. We can look at the effect of the scale variable on these learned dynamics by learning from a suite of \"test trajectories\" and ploting the vector field of transformations over the state space learned by the model. "
   ]
  },
  {
   "cell_type": "code",
   "execution_count": null,
   "metadata": {},
   "outputs": [],
   "source": [
    "trajectories = []\n",
    "# create two copies of trajectories with different initial positions\n",
    "for count in range(2):\n",
    "    traj = Trajectory(t, dt)\n",
    "    name = 'A'\n",
    "    x = count / 2 + 0.5\n",
    "    y = count / 2 + 0.5 \n",
    "    dxdt = lambda t: np.sin(t * np.pi)\n",
    "    dydt = lambda t: np.cos(t * np.pi)\n",
    "    traj.add_object_spec(name, x, y, dxdt, dydt)\n",
    "    trajectories.append(traj)\n",
    "\n",
    "\n",
    "xs, ys = create_data(ssp_map, trajectories, add_noise=False)\n",
    "\n",
    "mlp = MLP(x_dim=dim, h_dim=2*dim, y_dim=dim)\n",
    "mlp.train(xs, ys, n_steps=1000)"
   ]
  },
  {
   "cell_type": "code",
   "execution_count": null,
   "metadata": {},
   "outputs": [],
   "source": [
    "a_ssp = ssp_map.initialize_ssp(trajectories[0])\n",
    "a_cue = ssp_map.initialize_cue(trajectories[0])\n",
    "b_ssp = ssp_map.initialize_ssp(trajectories[1])\n",
    "b_cue = ssp_map.initialize_cue(trajectories[1])\n",
    "\n",
    "a_sims = []\n",
    "for new_ssp in ssp_map.modelled_dynamics_gen(n_steps, a_ssp, mlp):\n",
    "    a_sims.append(ssp_map.compute_heatmap(new_ssp * a_cue))\n",
    "\n",
    "b_sims = []\n",
    "for new_ssp in ssp_map.modelled_dynamics_gen(n_steps, b_ssp, mlp):\n",
    "    b_sims.append(ssp_map.compute_heatmap(new_ssp * b_cue))"
   ]
  },
  {
   "cell_type": "code",
   "execution_count": null,
   "metadata": {},
   "outputs": [],
   "source": [
    "# plot the results\n",
    "figsize = (16, 8)\n",
    "sims = [a_sims, b_sims]\n",
    "quiver = create_quiver(mlp, ssp_map, 'A')\n",
    "titles = ['First Trajectory', 'Second Trajectory']\n",
    "\n",
    "ani = heatmap_animation(sims, figsize, quiver=quiver, titles=titles)\n",
    "HTML('<img src=\"data:image/gif;base64,{0}\" />'.format(create_gif(ani, fname='example.gif')))"
   ]
  },
  {
   "cell_type": "code",
   "execution_count": null,
   "metadata": {},
   "outputs": [],
   "source": [
    "# now try varying the scale to see the effect on the learned dynamics\n",
    "scales = [2, 5, 8]\n",
    "\n",
    "for scale in scales:\n",
    "    ssp_map = Spatial2D(dim=dim, scale=scale, decode_threshold=decode_threshold)\n",
    "    ssp_map.build_grid(x_len, y_len, x_spaces, y_spaces)\n",
    "\n",
    "    xs, ys = create_data(ssp_map, trajectories, add_noise=True)\n",
    "    \n",
    "    mlp = MLP(x_dim=dim, h_dim=2*dim, y_dim=dim)\n",
    "    mlp.train(xs, ys, n_steps=1000)\n",
    "\n",
    "    a_ssp = ssp_map.initialize_ssp(trajectories[0])\n",
    "    b_ssp = ssp_map.initialize_ssp(trajectories[1])\n",
    "\n",
    "    a_sims = []\n",
    "    for new_ssp in ssp_map.modelled_dynamics_gen(n_steps, a_ssp, mlp):\n",
    "        decoded = ssp_map.cleanup(new_ssp, names=['A'])\n",
    "        a_sims.append(ssp_map.compute_heatmap(decoded))\n",
    "\n",
    "    b_sims = []\n",
    "    for new_ssp in ssp_map.modelled_dynamics_gen(n_steps, b_ssp, mlp):\n",
    "        decoded = ssp_map.cleanup(new_ssp, names=['A'])\n",
    "        b_sims.append(ssp_map.compute_heatmap(decoded))\n",
    "\n",
    "    # plot the results\n",
    "    quiver = create_quiver(mlp, ssp_map, 'A')\n",
    "    figsize = (16, 8)\n",
    "    sims = [a_sims, b_sims]\n",
    "    titles = ['First Trajectory', 'Second Trajectory']\n",
    "    \n",
    "    ani = heatmap_animation(sims, figsize, quiver=quiver, titles=titles)\n",
    "    fname = 'scale%d.gif' % scale\n",
    "    display(HTML('<img src=\"data:image/gif;base64,{0}\" />'.format(create_gif(ani, fname=fname))))"
   ]
  },
  {
   "cell_type": "markdown",
   "metadata": {},
   "source": [
    "### 3. Eigenvector Analysis of Linear Model\n",
    "\n",
    "Here, we analysis an SSP as a linear combination of the eigenvectors for a learned transformation matrix used to simulate some trajectories. So far, not much that is illuminating has come from this analysis. "
   ]
  },
  {
   "cell_type": "code",
   "execution_count": null,
   "metadata": {},
   "outputs": [],
   "source": [
    "xs, ys = create_data(ssp_map, trajectories, add_noise=False)\n",
    "\n",
    "linear_model = Linear(x_dim=dim, y_dim=dim)\n",
    "linear_model.train(xs, ys, n_steps=1000)\n",
    "\n",
    "eigvals, eigvecs = linear_model.eigdata\n",
    "\n",
    "# check that decomposition works\n",
    "assert np.allclose(np.dot(eigvecs, np.linalg.solve(eigvecs, a_ssp.v)), a_ssp.v)"
   ]
  },
  {
   "cell_type": "code",
   "execution_count": null,
   "metadata": {},
   "outputs": [],
   "source": [
    "n_steps = 40\n",
    "\n",
    "sims = []\n",
    "coeffs = []\n",
    "\n",
    "ssp = ssp_map.initialize_ssp(trajectories[0])\n",
    "cue = ssp_map.initialize_cue(trajectories[0])\n",
    "\n",
    "for new_ssp in ssp_map.modelled_dynamics_gen(n_steps, ssp, linear_model):\n",
    "        coeffs.append(np.linalg.solve(eigvecs, new_ssp.v))\n",
    "        sims.append(ssp_map.compute_heatmap(new_ssp * cue))\n",
    "        # check the decomposition was successful\n",
    "        assert np.allclose(np.dot(eigvecs, coeffs[-1]), new_ssp.v)\n",
    "\n",
    "\n",
    "ani = eigenvector_animation(eigvals, coeffs, sims, interval=50)\n",
    "HTML('<img src=\"data:image/gif;base64,{0}\" />'.format(create_gif(ani, fname='eigs.gif')))"
   ]
  },
  {
   "cell_type": "code",
   "execution_count": null,
   "metadata": {},
   "outputs": [],
   "source": [
    "# now check whether the eigenvectors encode anything interesting if treated as SSPs\n",
    "figsize= (16, 8)\n",
    "n_best = 50\n",
    "eig_sims = []\n",
    "dec_sims = []\n",
    "titles = ['Eigenvectors', 'Eigenvectors * Decoding Cue']\n",
    "\n",
    "for i in range(n_best):\n",
    "    eigssp = spa.SemanticPointer(eigvecs[:, i])\n",
    "    eig_sims.append(ssp_map.compute_heatmap(eigssp))\n",
    "    dec_sims.append(ssp_map.compute_heatmap(eigssp * cue))\n",
    "    \n",
    "sims = [eig_sims, dec_sims]\n",
    "ani = heatmap_animation(sims, figsize, titles=titles, text=True, interval=300)\n",
    "display(HTML('<img src=\"data:image/gif;base64,{0}\" />'.format(create_gif(ani, fname='eigsim.gif'))))"
   ]
  },
  {
   "cell_type": "code",
   "execution_count": null,
   "metadata": {},
   "outputs": [],
   "source": []
  }
 ],
 "metadata": {
  "kernelspec": {
   "display_name": "Python 3",
   "language": "python",
   "name": "python3"
  },
  "language_info": {
   "codemirror_mode": {
    "name": "ipython",
    "version": 3
   },
   "file_extension": ".py",
   "mimetype": "text/x-python",
   "name": "python",
   "nbconvert_exporter": "python",
   "pygments_lexer": "ipython3",
   "version": "3.7.9"
  }
 },
 "nbformat": 4,
 "nbformat_minor": 4
}

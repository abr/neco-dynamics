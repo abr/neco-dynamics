{
 "cells": [
  {
   "cell_type": "markdown",
   "metadata": {},
   "source": [
    "### Multi-Object SSP Dynamics with Error Analysis and Benchmarking\n",
    "\n",
    "In this notebook, benchmarks that involve calculating the error of a simulated trajectory relative to a ground truth trajectory are performed. These benchmarks can be used to evaluate the effects of varying SSP dimensionality, varying simulation methods, and varying approaches to training the models used to implement these simulation methods. The simulated trajectory works by evaluating a model of the form:\n",
    "\n",
    "$SSP = g(SSP, VSSP)$\n",
    "\n",
    "where $VSSP$ is encoding all of the objects' velocities into a single pointer."
   ]
  },
  {
   "cell_type": "code",
   "execution_count": 1,
   "metadata": {},
   "outputs": [],
   "source": [
    "%matplotlib inline\n",
    "import string\n",
    "import numpy as np\n",
    "import nengo_spa as spa\n",
    "import matplotlib.pyplot as plt\n",
    "import seaborn as sns\n",
    "import pandas as pd\n",
    "\n",
    "from IPython.display import HTML, display\n",
    "\n",
    "from ssp.maps import Spatial2D\n",
    "from ssp.models import Linear, MLP\n",
    "from ssp.dynamics import Trajectory, TrajectoryLog\n",
    "from ssp.plots import heatmap_animation, plot_error\n",
    "from ssp.plots import create_quiver, create_gif\n",
    "from ssp.utils import create_data, converging_trajectory, oscillating_trajectory"
   ]
  },
  {
   "cell_type": "code",
   "execution_count": 2,
   "metadata": {},
   "outputs": [],
   "source": [
    "dim = 256\n",
    "scale = 10\n",
    "\n",
    "t = 2\n",
    "dt = 0.05\n",
    "\n",
    "x_len = 2\n",
    "y_len = 2\n",
    "x_spaces = 101\n",
    "y_spaces = 101\n",
    "decode_threshold = 0.35\n",
    "\n",
    "n_epochs = 1000\n",
    "\n",
    "ssp_map = Spatial2D(dim=dim, scale=scale, decode_threshold=decode_threshold)\n",
    "ssp_map.build_grid(x_len, y_len, x_spaces, y_spaces)"
   ]
  },
  {
   "cell_type": "markdown",
   "metadata": {},
   "source": [
    "### 1. Initial Visualization and Error Plotting with Test Trajectory\n",
    "\n",
    "We implement a test trajectory that moves five objects along separate paths. This test trajectory can then be used to evaluate simulation error."
   ]
  },
  {
   "cell_type": "code",
   "execution_count": null,
   "metadata": {},
   "outputs": [
    {
     "data": {
      "application/vdom.v1+json": {
       "attributes": {},
       "tagName": "div"
      },
      "text/html": [
       "\n",
       "                <script>\n",
       "                    if (Jupyter.version.split(\".\")[0] < 5) {\n",
       "                        var pb = document.getElementById(\"d52591b2-aac4-423d-b02b-4c6a5d4a5369\");\n",
       "                        var text = document.createTextNode(\n",
       "                            \"HMTL progress bar requires Jupyter Notebook >= \" +\n",
       "                            \"5.0 or Jupyter Lab. Alternatively, you can use \" +\n",
       "                            \"TerminalProgressBar().\");\n",
       "                        pb.parentNode.insertBefore(text, pb);\n",
       "                    }\n",
       "                </script>\n",
       "                <div id=\"d52591b2-aac4-423d-b02b-4c6a5d4a5369\" style=\"\n",
       "                    width: 100%;\n",
       "                    border: 1px solid #cfcfcf;\n",
       "                    border-radius: 4px;\n",
       "                    text-align: center;\n",
       "                    position: relative;\">\n",
       "                  <div class=\"pb-text\" style=\"\n",
       "                      position: absolute;\n",
       "                      width: 100%;\">\n",
       "                    0%\n",
       "                  </div>\n",
       "                  <div class=\"pb-fill\" style=\"\n",
       "                      background-color: #bdd2e6;\n",
       "                      width: 0%;\">\n",
       "                    <style type=\"text/css\" scoped=\"scoped\">\n",
       "                        @keyframes pb-fill-anim {\n",
       "                            0% { background-position: 0 0; }\n",
       "                            100% { background-position: 100px 0; }\n",
       "                        }\n",
       "                    </style>\n",
       "                    &nbsp;\n",
       "                  </div>\n",
       "                </div>"
      ],
      "text/plain": [
       "HtmlProgressBar cannot be displayed. Please use the TerminalProgressBar. It can be enabled with `nengo.rc['progress']['progress_bar'] = 'nengo.utils.progress.TerminalProgressBar'`."
      ]
     },
     "metadata": {},
     "output_type": "display_data"
    },
    {
     "data": {
      "application/vdom.v1+json": {
       "attributes": {
        "id": "78d5df96-3b3c-4e69-9530-d8bc07da8c42",
        "style": {
         "border": "1px solid #cfcfcf",
         "borderRadius": "4px",
         "boxSizing": "border-box",
         "position": "relative",
         "textAlign": "center",
         "width": "100%"
        }
       },
       "children": [
        {
         "attributes": {
          "class": "pb-text",
          "style": {
           "position": "absolute",
           "width": "100%"
          }
         },
         "children": [
          "Trained (cost=0.000002) finished in 0:00:10."
         ],
         "tagName": "div"
        },
        {
         "attributes": {
          "class": "pb-fill",
          "style": {
           "animation": "none",
           "backgroundColor": "#bdd2e6",
           "backgroundImage": "none",
           "transition": "width 0.1s linear",
           "width": "100%"
          }
         },
         "children": [
          {
           "attributes": {
            "scoped": "scoped",
            "type": "text/css"
           },
           "children": [
            "\n                        @keyframes pb-fill-anim {\n                            0% { background-position: 0 0; }\n                            100% { background-position: 100px 0; }\n                        }}"
           ],
           "tagName": "style"
          },
          " "
         ],
         "tagName": "div"
        }
       ],
       "tagName": "div"
      },
      "text/html": [
       "<script>\n",
       "              (function () {\n",
       "                  var root = document.getElementById('d52591b2-aac4-423d-b02b-4c6a5d4a5369');\n",
       "                  var text = root.getElementsByClassName('pb-text')[0];\n",
       "                  var fill = root.getElementsByClassName('pb-fill')[0];\n",
       "\n",
       "                  text.innerHTML = 'Trained (cost=0.000002) finished in 0:00:10.';\n",
       "                  \n",
       "            if (100.0 > 0.) {\n",
       "                fill.style.transition = 'width 0.1s linear';\n",
       "            } else {\n",
       "                fill.style.transition = 'none';\n",
       "            }\n",
       "\n",
       "            fill.style.width = '100.0%';\n",
       "            fill.style.animation = 'none';\n",
       "            fill.style.backgroundImage = 'none'\n",
       "        \n",
       "                  \n",
       "                fill.style.animation = 'none';\n",
       "                fill.style.backgroundImage = 'none';\n",
       "            \n",
       "              })();\n",
       "        </script>"
      ]
     },
     "metadata": {},
     "output_type": "display_data"
    },
    {
     "data": {
      "application/vdom.v1+json": {
       "attributes": {},
       "tagName": "div"
      },
      "text/html": [
       "\n",
       "                <script>\n",
       "                    if (Jupyter.version.split(\".\")[0] < 5) {\n",
       "                        var pb = document.getElementById(\"f6dcc297-a983-4629-bd34-47efce20ce32\");\n",
       "                        var text = document.createTextNode(\n",
       "                            \"HMTL progress bar requires Jupyter Notebook >= \" +\n",
       "                            \"5.0 or Jupyter Lab. Alternatively, you can use \" +\n",
       "                            \"TerminalProgressBar().\");\n",
       "                        pb.parentNode.insertBefore(text, pb);\n",
       "                    }\n",
       "                </script>\n",
       "                <div id=\"f6dcc297-a983-4629-bd34-47efce20ce32\" style=\"\n",
       "                    width: 100%;\n",
       "                    border: 1px solid #cfcfcf;\n",
       "                    border-radius: 4px;\n",
       "                    text-align: center;\n",
       "                    position: relative;\">\n",
       "                  <div class=\"pb-text\" style=\"\n",
       "                      position: absolute;\n",
       "                      width: 100%;\">\n",
       "                    0%\n",
       "                  </div>\n",
       "                  <div class=\"pb-fill\" style=\"\n",
       "                      background-color: #bdd2e6;\n",
       "                      width: 0%;\">\n",
       "                    <style type=\"text/css\" scoped=\"scoped\">\n",
       "                        @keyframes pb-fill-anim {\n",
       "                            0% { background-position: 0 0; }\n",
       "                            100% { background-position: 100px 0; }\n",
       "                        }\n",
       "                    </style>\n",
       "                    &nbsp;\n",
       "                  </div>\n",
       "                </div>"
      ],
      "text/plain": [
       "HtmlProgressBar cannot be displayed. Please use the TerminalProgressBar. It can be enabled with `nengo.rc['progress']['progress_bar'] = 'nengo.utils.progress.TerminalProgressBar'`."
      ]
     },
     "metadata": {},
     "output_type": "display_data"
    },
    {
     "data": {
      "application/vdom.v1+json": {
       "attributes": {
        "id": "eab0163f-c2b4-417c-a34d-31089bfdfc69",
        "style": {
         "border": "1px solid #cfcfcf",
         "borderRadius": "4px",
         "boxSizing": "border-box",
         "position": "relative",
         "textAlign": "center",
         "width": "100%"
        }
       },
       "children": [
        {
         "attributes": {
          "class": "pb-text",
          "style": {
           "position": "absolute",
           "width": "100%"
          }
         },
         "children": [
          "Training (cost=0.000012)… 92%, ETA: 0:00:01"
         ],
         "tagName": "div"
        },
        {
         "attributes": {
          "class": "pb-fill",
          "style": {
           "animation": "none",
           "backgroundColor": "#bdd2e6",
           "backgroundImage": "none",
           "transition": "width 0.1s linear",
           "width": "92%"
          }
         },
         "children": [
          {
           "attributes": {
            "scoped": "scoped",
            "type": "text/css"
           },
           "children": [
            "\n                        @keyframes pb-fill-anim {\n                            0% { background-position: 0 0; }\n                            100% { background-position: 100px 0; }\n                        }}"
           ],
           "tagName": "style"
          },
          " "
         ],
         "tagName": "div"
        }
       ],
       "tagName": "div"
      },
      "text/html": [
       "<script>\n",
       "              (function () {\n",
       "                  var root = document.getElementById('f6dcc297-a983-4629-bd34-47efce20ce32');\n",
       "                  var text = root.getElementsByClassName('pb-text')[0];\n",
       "                  var fill = root.getElementsByClassName('pb-fill')[0];\n",
       "\n",
       "                  text.innerHTML = 'Training (cost=0.000012)&hellip; 92%, ETA: 0:00:01';\n",
       "                  \n",
       "            if (92.4 > 0.) {\n",
       "                fill.style.transition = 'width 0.1s linear';\n",
       "            } else {\n",
       "                fill.style.transition = 'none';\n",
       "            }\n",
       "\n",
       "            fill.style.width = '92.4%';\n",
       "            fill.style.animation = 'none';\n",
       "            fill.style.backgroundImage = 'none'\n",
       "        \n",
       "                  \n",
       "              })();\n",
       "        </script>"
      ]
     },
     "metadata": {},
     "output_type": "display_data"
    }
   ],
   "source": [
    "trajectory = converging_trajectory(ssp_map, t, dt)\n",
    "\n",
    "xs, ys = create_data(\n",
    "    ssp_map, [trajectory], add_noise=True, include_velocity=True)\n",
    "\n",
    "mlp = MLP(x_dim=2*dim, h_dims=2*dim, y_dim=dim)\n",
    "mlp.train(xs, ys, n_steps=n_epochs)\n",
    "\n",
    "linear = Linear(x_dim=2*dim, y_dim=dim)\n",
    "linear.train(xs, ys, n_steps=n_epochs)\n",
    "\n",
    "algebraic_sims = []\n",
    "algebraic_logs = TrajectoryLog(1, trajectory)\n",
    "\n",
    "linear_sims = []\n",
    "linear_logs = TrajectoryLog(1, trajectory)\n",
    "\n",
    "nonlinear_sims = []\n",
    "nonlinear_logs = TrajectoryLog(1, trajectory)\n",
    "\n",
    "ssp = ssp_map.initialize_ssp(trajectory)\n",
    "\n",
    "for new_ssp in ssp_map.algebraic_dynamics_gen(trajectory):\n",
    "    decoded = ssp_map.cleanup(new_ssp, trajectory.object_names)\n",
    "    algebraic_sims.append(ssp_map.compute_heatmap(decoded))\n",
    "    algebraic_logs.update(0, ssp_map, new_ssp)\n",
    "    \n",
    "for new_ssp in ssp_map.modelled_dynamics_gen_v2(trajectory, linear):\n",
    "    decoded = ssp_map.cleanup(new_ssp, trajectory.object_names)\n",
    "    linear_sims.append(ssp_map.compute_heatmap(decoded))\n",
    "    linear_logs.update(0, ssp_map, new_ssp)\n",
    "    \n",
    "for new_ssp in ssp_map.modelled_dynamics_gen_v2(trajectory, mlp):\n",
    "    decoded = ssp_map.cleanup(new_ssp, trajectory.object_names)\n",
    "    nonlinear_sims.append(ssp_map.compute_heatmap(decoded))\n",
    "    nonlinear_logs.update(0, ssp_map, new_ssp)"
   ]
  },
  {
   "cell_type": "code",
   "execution_count": null,
   "metadata": {},
   "outputs": [],
   "source": [
    "sims = [algebraic_sims, linear_sims, nonlinear_sims]\n",
    "figsize = (16, 6)\n",
    "titles = ['Algebraic Implementation', 'Linear Implementation', 'Non-Linear Approximation']\n",
    "\n",
    "ani = heatmap_animation(sims, figsize, titles=titles)\n",
    "\n",
    "HTML('<img src=\"data:image/gif;base64,{0}\" />'.format(create_gif(ani)))"
   ]
  },
  {
   "cell_type": "code",
   "execution_count": null,
   "metadata": {},
   "outputs": [],
   "source": [
    "sns.set(style=\"white\", palette=\"deep\")\n",
    "\n",
    "titles = ['Algebraic Model', 'Linear Model', 'Nonlinear Model']\n",
    "logs = [algebraic_logs, linear_logs, nonlinear_logs]\n",
    "\n",
    "for title, log in zip(titles, logs):\n",
    "    plot_error(log, title)"
   ]
  },
  {
   "cell_type": "markdown",
   "metadata": {},
   "source": [
    "### 2. Computing Mean Trajectory Errors\n",
    "\n",
    "We can run multiple experiments with different initializations of the SSPs used to simulate the trajectory in question to get a sense of general tendencies observed using different simulation methods. Simulation is quite accurate using both a linear model and a simple multi-layer perceptron."
   ]
  },
  {
   "cell_type": "code",
   "execution_count": null,
   "metadata": {},
   "outputs": [],
   "source": [
    "n_trials = 5\n",
    "nonlinear_logs = TrajectoryLog(n_trials, trajectory)\n",
    "linear_logs = TrajectoryLog(n_trials, trajectory)\n",
    "\n",
    "# log over multiple trials to get error bars    \n",
    "for trial in range(n_trials):\n",
    "    ssp_map = Spatial2D(dim=dim, scale=scale)\n",
    "    ssp_map.build_grid(x_len, y_len, x_spaces, y_spaces)\n",
    "\n",
    "    ssp = ssp_map.initialize_ssp(trajectory)\n",
    "\n",
    "    xs, ys = create_data(\n",
    "        ssp_map, [trajectory], add_noise=True, include_velocity=True)\n",
    "\n",
    "    mlp = MLP(x_dim=2*dim, h_dims=2*dim, y_dim=dim)\n",
    "    mlp.train(xs, ys, n_steps=n_epochs)\n",
    "\n",
    "    linear = Linear(x_dim=2*dim, y_dim=dim)\n",
    "    linear.train(xs, ys, n_steps=n_epochs)\n",
    "    \n",
    "    linear_sims = []\n",
    "    nonlinear_sims = []\n",
    "\n",
    "    for new_ssp in ssp_map.modelled_dynamics_gen_v2(trajectory, linear):\n",
    "        decoded = ssp_map.cleanup(new_ssp, trajectory.object_names)\n",
    "        nonlinear_sims.append(ssp_map.compute_heatmap(decoded))\n",
    "        nonlinear_logs.update(trial, ssp_map, new_ssp)\n",
    "    \n",
    "    for new_ssp in ssp_map.modelled_dynamics_gen_v2(trajectory, mlp):\n",
    "        decoded = ssp_map.cleanup(new_ssp, trajectory.object_names)\n",
    "        linear_sims.append(ssp_map.compute_heatmap(decoded))\n",
    "        linear_logs.update(trial, ssp_map, new_ssp)"
   ]
  },
  {
   "cell_type": "code",
   "execution_count": null,
   "metadata": {},
   "outputs": [],
   "source": [
    "sns.set(style=\"white\", palette=\"deep\")\n",
    "logs = [linear_logs, nonlinear_logs]\n",
    "titles = ['Linear Model', 'Non-Linear Model']\n",
    "\n",
    "for log, title in zip(logs, titles):\n",
    "    plot_error(log, title)"
   ]
  },
  {
   "cell_type": "markdown",
   "metadata": {},
   "source": [
    "### 3. Training on Multiple Trajectories\n",
    "\n"
   ]
  },
  {
   "cell_type": "code",
   "execution_count": null,
   "metadata": {},
   "outputs": [],
   "source": [
    "ssp_map = Spatial2D(dim=dim, scale=scale, decode_threshold=decode_threshold)\n",
    "ssp_map.build_grid(x_len, y_len, x_spaces, y_spaces)\n",
    "\n",
    "trajset = [oscillating_trajectory(ssp_map, t, dt, n_objects=5, noise=True) for _ in range(5)]\n",
    "allsims = []\n",
    "n = 3\n",
    "\n",
    "# observe a couple of the trajectories to see what the variability is like\n",
    "for trajectory in trajset[:n]:\n",
    "    sims = []\n",
    "    for new_ssp in ssp_map.algebraic_dynamics_gen(trajectory):\n",
    "        decoded = ssp_map.cleanup(new_ssp, trajectory.object_names)\n",
    "        sims.append(ssp_map.compute_heatmap(decoded))\n",
    "\n",
    "    allsims.append(sims)\n",
    "    \n",
    "figsize = (16, 6)\n",
    "titles = ['Trajectory A', 'Trajectory B', 'Trajectory C']\n",
    "\n",
    "ani = heatmap_animation(allsims, figsize, titles=titles)\n",
    "\n",
    "HTML('<img src=\"data:image/gif;base64,{0}\" />'.format(create_gif(ani)))"
   ]
  },
  {
   "cell_type": "code",
   "execution_count": null,
   "metadata": {},
   "outputs": [],
   "source": [
    "# now try training on linear and non-linear approximators\n",
    "xs, ys = create_data(\n",
    "    ssp_map, trajset, add_noise=False, include_velocity=True)\n",
    "\n",
    "mlp = MLP(x_dim=2*dim, h_dims=2*dim, y_dim=dim)\n",
    "mlp.train(xs, ys, n_steps=n_epochs)\n",
    "\n",
    "linear = Linear(x_dim=2*dim, y_dim=dim)\n",
    "linear.train(xs, ys, n_steps=n_epochs)\n",
    "\n",
    "linear_sims = []\n",
    "nonlinear_sims = []\n",
    "\n",
    "trajectory = np.random.choice(trajset)\n",
    "nonlinear_logs = TrajectoryLog(1, trajectory)\n",
    "linear_logs = TrajectoryLog(1, trajectory)\n",
    "\n",
    "ssp = ssp_map.initialize_ssp(trajectory)\n",
    "\n",
    "for new_ssp in ssp_map.modelled_dynamics_gen_v2(trajectory, linear):\n",
    "    decoded = ssp_map.cleanup(new_ssp, trajectory.object_names)\n",
    "    nonlinear_sims.append(ssp_map.compute_heatmap(decoded))\n",
    "    nonlinear_logs.update(0, ssp_map, new_ssp)\n",
    "\n",
    "for new_ssp in ssp_map.modelled_dynamics_gen_v2(trajectory, mlp):\n",
    "    decoded = ssp_map.cleanup(new_ssp, trajectory.object_names)\n",
    "    linear_sims.append(ssp_map.compute_heatmap(decoded))\n",
    "    linear_logs.update(0, ssp_map, new_ssp)"
   ]
  },
  {
   "cell_type": "code",
   "execution_count": null,
   "metadata": {},
   "outputs": [],
   "source": [
    "sims = [linear_sims, nonlinear_sims]\n",
    "figsize = (12, 6)\n",
    "titles = ['Linear Implementation', 'Non-Linear Approximation']\n",
    "\n",
    "ani = heatmap_animation(sims, figsize, titles=titles)\n",
    "\n",
    "HTML('<img src=\"data:image/gif;base64,{0}\" />'.format(create_gif(ani)))"
   ]
  },
  {
   "cell_type": "code",
   "execution_count": null,
   "metadata": {},
   "outputs": [],
   "source": [
    "titles = ['Linear Model', 'Nonlinear Model']\n",
    "logs = [linear_logs, nonlinear_logs]\n",
    "\n",
    "for title, log in zip(titles, logs):\n",
    "    plot_error(log, title)"
   ]
  },
  {
   "cell_type": "markdown",
   "metadata": {},
   "source": [
    "Multiple trajectories often doesn't work well because the ML system is expected to learn how to resolve ambiguities between trajectories that overlap in space with different velocities (the ML models are not given any input beyond the current SSP). That is an impossible task.\n",
    "\n",
    "### 4. Performing Method Comparisons\n",
    "\n",
    "Now we'll compare model generalization by test RMSE across a number of methods: (a) algebraic SSP manipulation, (b) linear approximation, (c) non-linear approximation, (d) linear approximation with noise augmentation, and (e) non-linear approximation with noise augmentation. We do so training on 100 trajectories and testing on 50 trajectories."
   ]
  },
  {
   "cell_type": "code",
   "execution_count": null,
   "metadata": {},
   "outputs": [],
   "source": [
    "n_trials = 1\n",
    "dim_samples = []\n",
    "obj_samples = []\n",
    "\n",
    "def run_trial(dim, n_objects, sample_list,\n",
    "              n_train=100, n_test=50, n_epochs=n_epochs):\n",
    "    # initialize map and train the models\n",
    "    ssp_map = Spatial2D(dim=dim, scale=scale, decode_threshold=decode_threshold)\n",
    "    ssp_map.build_grid(x_len, y_len, x_spaces, y_spaces)\n",
    "\n",
    "    # build trajectories\n",
    "    all_trajectories = []\n",
    "    for n in range(n_train + n_test):\n",
    "        traj = oscillating_trajectory(ssp_map, t, dt, n_objects=n_objects, noise=True)\n",
    "        all_trajectories.append(traj)\n",
    "\n",
    "    train_trajectories = all_trajectories[:n_train]\n",
    "    test_trajectories = all_trajectories[n_train:]\n",
    "\n",
    "    # approximation without noise augmentation\n",
    "    xs, ys = create_data(\n",
    "        ssp_map, train_trajectories, add_noise=False, include_velocity=True)\n",
    "\n",
    "    mlp = MLP(x_dim=2*dim, h_dims=2*dim, y_dim=dim)\n",
    "    mlp.train(xs, ys, n_steps=n_epochs)\n",
    "\n",
    "    linear = Linear(x_dim=2*dim, y_dim=dim)\n",
    "    linear.train(xs, ys, n_steps=n_epochs)\n",
    "\n",
    "    # approximation with noise augmentation\n",
    "    aug_xs, aug_ys = create_data(\n",
    "        ssp_map, train_trajectories, add_noise=True, include_velocity=True)\n",
    "\n",
    "    aug_mlp = MLP(x_dim=2*dim, h_dims=2*dim, y_dim=dim)\n",
    "    aug_mlp.train(aug_xs, aug_ys, n_steps=n_epochs)\n",
    "\n",
    "    aug_linear = Linear(x_dim=2*dim, y_dim=dim)\n",
    "    aug_linear.train(aug_xs, aug_ys, n_steps=n_epochs)\n",
    "\n",
    "    for test_trajectory in test_trajectories:\n",
    "        # setup logging\n",
    "        alg_log = TrajectoryLog(1, test_trajectory)\n",
    "        lin_log = TrajectoryLog(1, test_trajectory)\n",
    "        mlp_log = TrajectoryLog(1, test_trajectory)\n",
    "        aug_lin_log = TrajectoryLog(1, test_trajectory)\n",
    "        aug_mlp_log = TrajectoryLog(1, test_trajectory)\n",
    "\n",
    "        # algebraic method\n",
    "        for new_ssp in ssp_map.algebraic_dynamics_gen(test_trajectory):\n",
    "            alg_log.update(0, ssp_map, new_ssp)\n",
    "\n",
    "        # ML methods\n",
    "        for new_ssp in ssp_map.modelled_dynamics_gen_v2(test_trajectory, linear):\n",
    "            lin_log.update(0, ssp_map, new_ssp)\n",
    "\n",
    "        for new_ssp in ssp_map.modelled_dynamics_gen_v2(test_trajectory, mlp):\n",
    "            mlp_log.update(0, ssp_map, new_ssp)\n",
    "\n",
    "        for new_ssp in ssp_map.modelled_dynamics_gen_v2(test_trajectory, aug_linear):\n",
    "            aug_lin_log.update(0, ssp_map, new_ssp)\n",
    "\n",
    "        for new_ssp in ssp_map.modelled_dynamics_gen_v2(test_trajectory, aug_mlp):\n",
    "            aug_mlp_log.update(0, ssp_map, new_ssp)\n",
    "\n",
    "        # create data samples to use for plotting\n",
    "        sample_list.append(\n",
    "            {'Method': 'Algebraic',\n",
    "             'RMSE': alg_log.global_error,\n",
    "             'N Objects': n_objects,\n",
    "             'D': dim})\n",
    "        sample_list.append(\n",
    "            {'Method': 'Linear',\n",
    "             'RMSE': lin_log.global_error,\n",
    "             'N Objects': n_objects,\n",
    "             'D': dim})\n",
    "        sample_list.append(\n",
    "            {'Method': 'MLP',\n",
    "             'RMSE': mlp_log.global_error,\n",
    "             'N Objects': n_objects,\n",
    "             'D': dim})\n",
    "        sample_list.append(\n",
    "            {'Method': 'Linear Aug',\n",
    "             'RMSE': aug_lin_log.global_error,\n",
    "             'N Objects': n_objects,\n",
    "             'D': dim})\n",
    "        sample_list.append(\n",
    "            {'Method': 'MLP Aug',\n",
    "             'RMSE': aug_mlp_log.global_error,\n",
    "             'N Objects': n_objects,\n",
    "             'D': dim})\n",
    "\n",
    "        \n",
    "# collect data for two experiments\n",
    "for n_objects in (2, 3, 4, 5):\n",
    "    for trial in range(n_trials):\n",
    "        run_trial(512, n_objects, obj_samples)\n",
    "        \n",
    "for dim in [256, 512, 1024]:\n",
    "    for trial in range(n_trials):\n",
    "        run_trial(dim, 5, dim_samples)"
   ]
  },
  {
   "cell_type": "code",
   "execution_count": null,
   "metadata": {},
   "outputs": [],
   "source": [
    "fig, (ax1, ax2) = plt.subplots(1, 2, figsize=(12, 6))\n",
    "\n",
    "sns.barplot(x=\"Method\", y=\"RMSE\", hue=\"N Objects\", data=pd.DataFrame(obj_samples), ax=ax1)\n",
    "sns.barplot(x=\"Method\", y=\"RMSE\", hue=\"D\", data=pd.DataFrame(dim_samples), ax=ax2)\n",
    "\n",
    "ax1.set_title('SSP Dimensionality of 512')\n",
    "ax2.set_title('5 Objects In Trajectory')\n",
    "# plt.suptitle('Training on 10 Sample Trajectories')\n",
    "plt.show()"
   ]
  },
  {
   "cell_type": "code",
   "execution_count": null,
   "metadata": {},
   "outputs": [],
   "source": []
  }
 ],
 "metadata": {
  "kernelspec": {
   "display_name": "Python 3",
   "language": "python",
   "name": "python3"
  },
  "language_info": {
   "codemirror_mode": {
    "name": "ipython",
    "version": 3
   },
   "file_extension": ".py",
   "mimetype": "text/x-python",
   "name": "python",
   "nbconvert_exporter": "python",
   "pygments_lexer": "ipython3",
   "version": "3.7.9"
  }
 },
 "nbformat": 4,
 "nbformat_minor": 4
}

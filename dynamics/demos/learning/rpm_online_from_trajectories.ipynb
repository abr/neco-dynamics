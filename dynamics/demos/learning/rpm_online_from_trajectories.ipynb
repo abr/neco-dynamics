{
 "cells": [
  {
   "cell_type": "markdown",
   "metadata": {},
   "source": [
    "### Raven's Progressive Matrix-Style Online Learning of Dynamics from Trajectories\n",
    "\n",
    "This notebook example demonstrates the use of the online learning rule from _Eliasmith, C. How to Build a Brain, pg. 140, 148, 149_. In that book, it is used to perform \"syntactic generalization\" or \"rule induction\" to solve the Raven's Progressive Matrix (RPM) test of fluid intelligence. We apply this same method here to learn the transformation required to produce some dynamical SSP trajectory.\n",
    "\n",
    "$$T \\leftarrow T - w \\left[ T - \\left( A^{-1} \\circledast B \\right) \\right]$$\n",
    "\n",
    "where $w = e^{-dt / \\tau}$ is the discretization of a lowpass filter with time-constant $\\tau$ and time-step $dt$. $A$ is the SSP before the tranformation, and $B$ is the SSP after the transformation (such that $B = T \\circledast A$).\n",
    "\n",
    "Surprisingly, we find that a time-constant of $\\bar{\\tau} = \\tau / dt = 1$ and just a single example is enough to perfectly learn the trajectory.\n",
    "\n",
    "This in fact is a consequence of the way the trajectory SSPs are defined. In particular,\n",
    "\n",
    "$$SSP = \\sum_{c} X^{x_c} \\circledast Y^{y_c} \\circledast C^c$$\n",
    "\n",
    "is the encoding for the trajectory. The decoding is straightforward due to properties of unitary semantic pointers:\n",
    "\n",
    "$$X^{x_c} \\circledast Y^{y_c} \\approx SSP \\circledast C^{-c}$$\n",
    "\n",
    "The insight is that to move from one $c$ to another, the required transformation is simply a binding with the vector:\n",
    "\n",
    "$$T = C^{-\\Delta c}$$\n",
    "\n",
    "And so we find that the online learning rule arrives at the exact same $T$ (after normalization)."
   ]
  },
  {
   "cell_type": "code",
   "execution_count": null,
   "metadata": {},
   "outputs": [],
   "source": [
    "%matplotlib inline"
   ]
  },
  {
   "cell_type": "code",
   "execution_count": null,
   "metadata": {},
   "outputs": [],
   "source": [
    "from IPython.display import HTML\n",
    "import numpy as np\n",
    "\n",
    "from ssp.maps import Spatial2D\n",
    "from ssp.cleanup import Cleanup\n",
    "from ssp.plots import heatmap_animation, create_gif\n",
    "from ssp.utils import interpolate, linear_steps"
   ]
  },
  {
   "cell_type": "code",
   "execution_count": null,
   "metadata": {},
   "outputs": [],
   "source": [
    "ssp_map = Spatial2D(dim=2048, scale=5)\n",
    "ssp_map.build_grid(x_len=2, y_len=2, x_spaces=101, y_spaces=101)"
   ]
  },
  {
   "cell_type": "code",
   "execution_count": null,
   "metadata": {},
   "outputs": [],
   "source": [
    "traj_steps = 25\n",
    "step_size = 1"
   ]
  },
  {
   "cell_type": "code",
   "execution_count": null,
   "metadata": {},
   "outputs": [],
   "source": [
    "# define some functions to use for generating trajectories\n",
    "absval = lambda x: np.abs(x)\n",
    "cosine = lambda x: 0.5 * np.cos(x * np.pi) + 1\n",
    "circle = lambda x, n: (1 + np.cos(2 * np.pi / n * x) / 2, 1 + np.sin(2 * np.pi / n * x) / 2)\n",
    "\n",
    "absval_points = [(x, absval(x)) for x in np.linspace(0, ssp_map.x_len, traj_steps)]\n",
    "cosine_points = [(x, cosine(x)) for x in np.linspace(0, ssp_map.x_len, traj_steps)]\n",
    "circle_points = [circle(x, traj_steps) for x in range(traj_steps)]"
   ]
  },
  {
   "cell_type": "code",
   "execution_count": null,
   "metadata": {},
   "outputs": [],
   "source": [
    "# encode and decode the trajectories as defined by sample points\n",
    "enc_cues = linear_steps(traj_steps, stepsize=step_size)\n",
    "dec_cues = interpolate(enc_cues, n=5)\n",
    "\n",
    "def encode_decode(trajectory, cleanup=None):\n",
    "    enc = ssp_map.encode_trajectory(points=trajectory, cues=enc_cues)\n",
    "    dec = ssp_map.decode_trajectory(enc, cues=dec_cues)\n",
    "    if cleanup is not None:\n",
    "        dec = list(map(cleanup, dec))\n",
    "    return [ssp_map.compute_heatmap(v) for v in dec]"
   ]
  },
  {
   "cell_type": "code",
   "execution_count": null,
   "metadata": {
    "scrolled": false
   },
   "outputs": [],
   "source": [
    "absval_sims = encode_decode(absval_points)\n",
    "cosine_sims = encode_decode(cosine_points)\n",
    "circle_sims = encode_decode(circle_points)\n",
    "\n",
    "ani = heatmap_animation(\n",
    "    [absval_sims, cosine_sims, circle_sims], figsize=(12, 4), interval=40)\n",
    "HTML('<img src=\"data:image/gif;base64,{0}\" />'.format(create_gif(ani)))"
   ]
  },
  {
   "cell_type": "raw",
   "metadata": {},
   "source": [
    "cleanup = Cleanup(ssp_map.dim, ssp_map.voc)\n",
    "\n",
    "objects = [\n",
    "    ssp_map.C ** c\n",
    "    for c in enc_cues\n",
    "]\n",
    "\n",
    "assert ssp_map.x_len == ssp_map.y_len\n",
    "cleanup.train(objects, 0, ssp_map.x_len * ssp_map.scale, n_steps=5000, n_samples=2048)\n",
    "\n",
    "absval_sims = encode_decode(absval_points, cleanup=cleanup)\n",
    "cosine_sims = encode_decode(cosine_points, cleanup=cleanup)\n",
    "circle_sims = encode_decode(circle_points, cleanup=cleanup)\n",
    "\n",
    "ani = heatmap_animation(\n",
    "    [absval_sims, cosine_sims, circle_sims], figsize=(12, 4), interval=40)\n",
    "HTML('<img src=\"data:image/gif;base64,{0}\" />'.format(create_gif(ani)))"
   ]
  },
  {
   "cell_type": "code",
   "execution_count": null,
   "metadata": {},
   "outputs": [],
   "source": [
    "# Raven's Progressive Matrices (RPM) style online learning rule\n",
    "# Eliasmith, C. How to Build a Brain, pg. 140\n",
    "trajectory = circle_points\n",
    "n_online_samples = 1\n",
    "\n",
    "# express the update as a discrete-time lowpass filter\n",
    "tau_bar = 1  # tau / dt\n",
    "w = np.exp(-1 / tau_bar)  # discretizing using ZOH\n",
    "assert np.allclose(-1 / np.log(w), tau_bar)\n",
    "\n",
    "# TODO: duplicates encode_decode function\n",
    "enc = ssp_map.encode_trajectory(points=trajectory, cues=enc_cues)\n",
    "dec = ssp_map.decode_trajectory(enc, cues=dec_cues)\n",
    "sims = list(map(ssp_map.compute_heatmap, dec))\n",
    "\n",
    "T = ssp_map.voc[\"Zero\"]\n",
    "for i in range(n_online_samples):\n",
    "    T = T - w*(T - (~dec[i]) * dec[i+1])\n",
    "T = T.unitary()"
   ]
  },
  {
   "cell_type": "code",
   "execution_count": null,
   "metadata": {},
   "outputs": [],
   "source": [
    "pred_dec = [dec[0]]\n",
    "for i in range(len(dec) - 1):\n",
    "    pred_dec.append(T * pred_dec[-1])\n",
    "pred_sims = list(map(ssp_map.compute_heatmap, pred_dec))"
   ]
  },
  {
   "cell_type": "code",
   "execution_count": null,
   "metadata": {},
   "outputs": [],
   "source": [
    "ani = heatmap_animation(\n",
    "    [sims, pred_sims, [s1 - s2 for s1, s2 in zip(sims, pred_sims)]],\n",
    "    figsize=(12, 4), interval=40)\n",
    "HTML('<img src=\"data:image/gif;base64,{0}\" />'.format(create_gif(ani, fname=\"trajectory.gif\")))"
   ]
  },
  {
   "cell_type": "code",
   "execution_count": null,
   "metadata": {},
   "outputs": [],
   "source": [
    "# verify zero error\n",
    "np.allclose(sims, pred_sims)"
   ]
  },
  {
   "cell_type": "code",
   "execution_count": null,
   "metadata": {},
   "outputs": [],
   "source": [
    "# verify that it's learning the transformation that we would algebraically expect\n",
    "dc = dec_cues[1] - dec_cues[0]\n",
    "assert np.allclose(np.diff(dec_cues), dc)\n",
    "np.allclose(T.v, (ssp_map.C ** -dc).v)"
   ]
  },
  {
   "cell_type": "code",
   "execution_count": null,
   "metadata": {},
   "outputs": [],
   "source": []
  }
 ],
 "metadata": {
  "kernelspec": {
   "display_name": "LPS Part3",
   "language": "python",
   "name": "lps-part3"
  },
  "language_info": {
   "codemirror_mode": {
    "name": "ipython",
    "version": 3
   },
   "file_extension": ".py",
   "mimetype": "text/x-python",
   "name": "python",
   "nbconvert_exporter": "python",
   "pygments_lexer": "ipython3",
   "version": "3.7.6"
  }
 },
 "nbformat": 4,
 "nbformat_minor": 4
}
